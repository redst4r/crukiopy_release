{
 "cells": [
  {
   "cell_type": "code",
   "execution_count": null,
   "metadata": {},
   "outputs": [],
   "source": [
    "# heatmap of M, D, T markers\n",
    "\n"
   ]
  },
  {
   "cell_type": "code",
   "execution_count": 4,
   "metadata": {},
   "outputs": [],
   "source": [
    "import scanpy as sc\n",
    "import pandas as pd\n",
    "import numpy as np\n",
    "import scipy.stats\n",
    "import seaborn as sns\n",
    "from sklearn.preprocessing import RobustScaler\n",
    "from sklearn.linear_model import LogisticRegression\n",
    "from scipy.interpolate import UnivariateSpline\n",
    "from sklearn.cluster import KMeans\n",
    "import plotly.express as px\n"
   ]
  },
  {
   "cell_type": "code",
   "execution_count": 5,
   "metadata": {},
   "outputs": [],
   "source": [
    "q = sc.read_h5ad('../atlas/Atlas_adatas_June2021_Atlas_final_May2021.h5ad')"
   ]
  },
  {
   "cell_type": "code",
   "execution_count": 6,
   "metadata": {},
   "outputs": [],
   "source": [
    "qobs = pd.read_csv('../DEG_Analysis/EsoAtlas_adatas_june2021_final_obs.csv.gz', index_col=0)"
   ]
  },
  {
   "cell_type": "code",
   "execution_count": 7,
   "metadata": {},
   "outputs": [],
   "source": [
    "degs = pd.read_csv('../DEG_Analysis/EsoAtlas_DEGs_filtered_by_score_4_11_22.csv', index_col=0)"
   ]
  },
  {
   "cell_type": "code",
   "execution_count": 8,
   "metadata": {},
   "outputs": [],
   "source": [
    "pbexpr = pd.read_csv('../pseudobulks/pseudobulks_cluster_level/gi_epithelial_pseudobulk.csv', index_col=0)\n",
    "pbmeta = pd.read_csv('../pseudobulks/pseudobulks_cluster_level/gi_epithelial_metadata.csv', index_col=0)"
   ]
  },
  {
   "cell_type": "code",
   "execution_count": 9,
   "metadata": {},
   "outputs": [],
   "source": [
    "q.obs = qobs"
   ]
  },
  {
   "cell_type": "code",
   "execution_count": 10,
   "metadata": {},
   "outputs": [
    {
     "data": {
      "text/plain": [
       "E19    30789\n",
       "E26    22390\n",
       "E07    19989\n",
       "E14    16518\n",
       "E23    15624\n",
       "E24    12535\n",
       "E20    11944\n",
       "E21    11696\n",
       "E17    10061\n",
       "E08     9697\n",
       "E12     7834\n",
       "E11     6509\n",
       "Name: patient, dtype: int64"
      ]
     },
     "execution_count": 10,
     "metadata": {},
     "output_type": "execute_result"
    }
   ],
   "source": [
    "q.obs.patient.value_counts()"
   ]
  },
  {
   "cell_type": "code",
   "execution_count": 11,
   "metadata": {},
   "outputs": [
    {
     "data": {
      "text/plain": [
       "gi_epithelial          6841\n",
       "endothelial            1719\n",
       "cd8_Tcells              828\n",
       "neuroendocrine          781\n",
       "myofibroblasts          722\n",
       "fibroblasts             651\n",
       "B_cells                 613\n",
       "monocytes_macs_DCs      589\n",
       "cd4_Tcells              170\n",
       "mast_cells              114\n",
       "squamous_epithelial      67\n",
       "NK_cells                 56\n",
       "naive_T_cells            48\n",
       "Name: celltype, dtype: int64"
      ]
     },
     "execution_count": 11,
     "metadata": {},
     "output_type": "execute_result"
    }
   ],
   "source": [
    "degs.celltype.value_counts()"
   ]
  },
  {
   "cell_type": "code",
   "execution_count": 12,
   "metadata": {},
   "outputs": [],
   "source": [
    "\n",
    "\n",
    "def get_full_model_table(preds, pbmeta):\n",
    "\n",
    "    preds = preds[:, [2,3,1,0,4]]\n",
    "    dx_list = np.array(['NE','NS','M','D','T'])\n",
    "    best_call = []\n",
    "    \n",
    "    for pi in preds:\n",
    "        pia = np.array(pi)\n",
    "        idx = np.argwhere(max(pia) == pia)[0]\n",
    "        best_call.append(dx_list[idx[0]])    \n",
    "    \n",
    "    pred_df = pd.DataFrame(preds, columns=['NE','NS','M','D','T'])\n",
    "    res_df = pd.concat([pbmeta.reset_index(drop=True), pred_df], axis=1)\n",
    "    \n",
    "    res_df['predicted'] = best_call\n",
    "    \n",
    "    res_df = res_df.loc[:, ['patient', 'biosample', 'procedure', 'dx', 'predicted', 'cell_counts', 'avg_molecules',  'NE', 'NS', 'M', 'D', 'T'] ]\n",
    "    \n",
    "    \n",
    "    return(res_df)\n",
    "    \n",
    "\n",
    "def plot_full_model(preds):\n",
    "\n",
    "    preds = preds[:, [2,3,1,0,4]]\n",
    "    \n",
    "    fig = px.imshow(preds,\n",
    "                    color_continuous_scale='RdBu_r', \n",
    "                    aspect=\"auto\",\n",
    "                    width=600,\n",
    "                    height=400,\n",
    "                   )\n",
    "    fig.update_layout(\n",
    "        font_size=8,\n",
    "        font_family=\"Courier New\",\n",
    "        font_color=\"blue\",\n",
    "        title_font_family=\"Times New Roman\",\n",
    "        title_font_color=\"red\",\n",
    "        legend_title_font_color=\"green\"\n",
    "    )\n",
    "    fig.update_xaxes(side=\"top\")\n",
    "    fig.show()\n",
    "\n",
    "\n",
    "def full_model(resDict, scaled_df):\n",
    "    genes = np.array([])\n",
    "    preds_mat = []\n",
    "    dx_list = np.array(['NE','NS','M','D','T'])\n",
    "\n",
    "    for ri in resDict.keys():\n",
    "        genes = np.concatenate( (genes, resDict[ri]['genes'].values) )\n",
    "\n",
    "    X = scaled_df.loc[genes,:]     \n",
    "\n",
    "    for si in range(0,49):\n",
    "\n",
    "        idx = [xi for xi in range(0,49)]\n",
    "        idx.remove(si)\n",
    "\n",
    "        X1 = X.iloc[:,idx]\n",
    "        X2 = pd.DataFrame(data=X.iloc[:,si], index=X.index)\n",
    "\n",
    "        y = pbmeta_gi.dx.values\n",
    "        y1 = y[idx]\n",
    "\n",
    "        clf = LogisticRegression(penalty='l1', solver='liblinear', max_iter=1000).fit(X1.T, y1)\n",
    "        preds = clf.predict_proba(X2.T)\n",
    "                \n",
    "        if (len(preds_mat) == 0):\n",
    "            preds_mat = preds\n",
    "        else:\n",
    "            preds_mat = np.vstack( [preds_mat, preds] )\n",
    "\n",
    "    return(preds_mat)\n",
    "\n",
    "\n",
    "def sum_gene_overlaps(resDict):\n",
    "    dx_list = np.array(['NE','NS','M','D','T'])\n",
    "    sum_overlaps = 0\n",
    "    for dxi in dx_list:\n",
    "        for dxj in dx_list[1:]:\n",
    "            if (dxi != dxj):\n",
    "                olap = len(set(resDict[dxi]['genes']).intersection(resDict[dxj]['genes']))\n",
    "                if olap > 0:\n",
    "                    print('gene overlap: ' + dxi + '  ' + dxj + '  ' + str(olap))\n",
    "                sum_overlaps += olap\n",
    "\n",
    "    return(sum_overlaps)\n",
    "\n",
    "\n",
    "def predict_one_dx(t_idx, coefs, scaled_df, pheno, pbmeta_cs):\n",
    "    q1 = t_idx[0]\n",
    "    q2 = t_idx[1]\n",
    "    idx = np.argwhere( (coefs > q2) | (coefs < q1) )\n",
    "    idx = [xi[0] for xi in idx]\n",
    "    markers = scaled_df.iloc[idx,:]\n",
    "    y = (pbmeta_cs.dx.values == pheno).astype('int')\n",
    "    X = markers.T\n",
    "    clf = LogisticRegression().fit(X, y)\n",
    "    preds = clf.predict_proba(X)\n",
    "    sns.scatterplot(x=range(0,49), y=preds[:,1], hue=(y))\n",
    "\n",
    "\n",
    "def plot_thresolds(coefs, t_idx):\n",
    "    # plot the coefs curve with thresholds\n",
    "    coefs_sorted = np.array(coefs)\n",
    "    coefs_sorted.sort()\n",
    "    k = KMeans(n_clusters=3).fit(coefs_sorted.reshape(-1, 1))\n",
    "    (q1, q2) = (t_idx[0], t_idx[1])\n",
    "    g=sns.scatterplot(y=range(0,len(coefs)), x=coefs_sorted, hue=[str(ki) for ki in k.labels_])\n",
    "    g.axvline(q1, ls='--', linewidth=3, color='red')\n",
    "    g.axvline(q2, ls='--', linewidth=3, color='red')\n",
    "    \n",
    "\n",
    "\n",
    "def get_thresholds(coefs, cl, cr):\n",
    "    # going to fit a spline and find the \n",
    "    # second derivatives to find the 'elbows'\n",
    "    # then apply a constant until all the signatures\n",
    "    # are unique to dx's\n",
    "    t_idx = []\n",
    "    coefs_sorted = np.array(coefs)\n",
    "    coefs_sorted.sort()\n",
    "    n = float(len(coefs))\n",
    "    x = coefs_sorted \n",
    "    y = [xi / n for xi in range(0,int(n))]\n",
    "    spl = UnivariateSpline(x,y,k=5, s=5)\n",
    "    spl2 = spl.derivative(n=2)\n",
    "    xs = np.arange(np.min(x), np.max(x), 0.01)\n",
    "    # create a list of vals from the derivative\n",
    "    vals = np.array(spl2(xs)) \n",
    "    # and get the max from the left side\n",
    "    vals_left = vals[xs < 0]\n",
    "    xidx = np.argwhere(np.max(vals_left) == vals)[0]\n",
    "    t_idx.append((xs[xidx]-cl)[0])\n",
    "    # and the min from the right side\n",
    "    vals_right = vals[xs > 0]\n",
    "    xidx = np.argwhere(np.min(vals_right) == vals)[0]\n",
    "    t_idx.append((xs[xidx]+cr)[0])\n",
    "    # return the thresholds to use.\n",
    "    return(t_idx)\n",
    "\n",
    "\n",
    "def get_thresholds_topN(coefs, topN):\n",
    "    # np.argsort() return\n",
    "    # array of indices for\n",
    "    # sorted array\n",
    "    coefs = np.array(coefs)\n",
    "    sorted_index_array = np.argsort(coefs)\n",
    "    # sorted array\n",
    "    sorted_array = coefs[sorted_index_array]\n",
    "    # we want 1 largest value\n",
    "    n = 1\n",
    "    # we are using negative\n",
    "    # indexing concept\n",
    "    # take n largest value\n",
    "    rslt2 = sorted_array[-topN ]  # high\n",
    "    rslt1 = sorted_array[ topN ]  # low\n",
    "    return([rslt1, rslt2])\n",
    "\n",
    "def score_genes(pheno, scaled_df, pbmeta_cs):\n",
    "    coefs = []\n",
    "    for gi in range(0,len(scaled_df)):\n",
    "        y = (pbmeta_cs.dx.values == pheno).astype('int')\n",
    "        X = scaled_df.T.iloc[:,gi].values.reshape(-1, 1)\n",
    "        clf = LogisticRegression(random_state=0).fit(X, y)\n",
    "        coefs.append(clf.coef_[0][0])\n",
    "    return(coefs)\n",
    "\n",
    "def create_gene_signatures(pheno, celltype, degs, pbexpr, pbmeta, cl, cr):\n",
    "    dx_list = np.array(['NE','NS','M','D','T'])\n",
    "    # first subset the DEGs to a particular celltype\n",
    "    degs_cs = degs[degs.celltype == celltype]  ## cs == cell specific\n",
    "    # then subset the pseudobulk expression to the DEGs\n",
    "    pbexpr_cs = pbexpr[pbexpr.index.isin(degs_cs.gene)]\n",
    "    # and remove mixed samples\n",
    "    pbmeta_cs = pbmeta.loc[pbmeta.dx == \"NE\"]\n",
    "    for dxi in dx_list[1:]:\n",
    "        pbmeta_cs = pbmeta_cs.append( pbmeta.loc[pbmeta.dx == dxi] )\n",
    "    # reorder the expression to match the metadata\n",
    "    pbexpr_cs = pbexpr_cs.loc[:, pbmeta_cs.biosample]\n",
    "    # need to normalize the expression data\n",
    "    X = RobustScaler(quantile_range=(25, 75)).fit_transform(pbexpr_cs)\n",
    "    df = pd.DataFrame(data=X, index=pbexpr_cs.index, columns=pbexpr_cs.columns)\n",
    "    vectors = df.values\n",
    "    scaled_rows = RobustScaler(quantile_range=(25, 75)).fit_transform(vectors.T).T\n",
    "    scaled_df = pd.DataFrame(data = scaled_rows, index=df.index, columns = df.columns)\n",
    "    # score genes per dx\n",
    "    coefs = score_genes(pheno, scaled_df, pbmeta_cs)\n",
    "    # Then get our thresholds\n",
    "    t_idx = get_thresholds(coefs, cl, cr)\n",
    "    # Then to get the gene list!\n",
    "    genes = scaled_df.index[ (coefs < t_idx[0])|(coefs > t_idx[1]) ]\n",
    "    res0 = dict({\n",
    "        'pheno':pheno,\n",
    "        'pbexpr_cs':pbexpr_cs,\n",
    "        'pbmeta_cs':pbmeta_cs,\n",
    "        'scaled_df':scaled_df,\n",
    "        'coefs':coefs,\n",
    "        't_idx':t_idx,\n",
    "        'genes':genes\n",
    "        \n",
    "    })\n",
    "    return(res0)\n",
    "\n",
    "def create_gene_signatures_topN(pheno, celltype, degs, pbexpr, pbmeta, topN):\n",
    "    dx_list = np.array(['NE','NS','M','D','T'])\n",
    "    # first subset the DEGs to a particular celltype\n",
    "    degs_cs = degs[degs.celltype == celltype]  ## cs == cell specific\n",
    "    # then subset the pseudobulk expression to the DEGs\n",
    "    pbexpr_cs = pbexpr[pbexpr.index.isin(degs_cs.gene)]\n",
    "    # and remove mixed samples\n",
    "    pbmeta_cs = pbmeta.loc[pbmeta.dx == \"NE\"]\n",
    "    for dxi in dx_list[1:]:\n",
    "        pbmeta_cs = pbmeta_cs.append( pbmeta.loc[pbmeta.dx == dxi] )\n",
    "    # reorder the expression to match the metadata\n",
    "    pbexpr_cs = pbexpr_cs.loc[:, pbmeta_cs.biosample]\n",
    "    # need to normalize the expression data\n",
    "    X = RobustScaler(quantile_range=(25, 75)).fit_transform(pbexpr_cs)\n",
    "    df = pd.DataFrame(data=X, index=pbexpr_cs.index, columns=pbexpr_cs.columns)\n",
    "    vectors = df.values\n",
    "    scaled_rows = RobustScaler(quantile_range=(25, 75)).fit_transform(vectors.T).T\n",
    "    scaled_df = pd.DataFrame(data = scaled_rows, index=df.index, columns = df.columns)\n",
    "    # score genes per dx\n",
    "    coefs = score_genes(pheno, scaled_df, pbmeta_cs)\n",
    "    # Then get our thresholds\n",
    "    t_idx = get_thresholds_topN(coefs, topN)\n",
    "    # Then to get the gene list!\n",
    "    genes = scaled_df.index[ (coefs < t_idx[0])|(coefs > t_idx[1]) ]\n",
    "    res0 = dict({\n",
    "        'pheno':pheno,\n",
    "        'pbexpr_cs':pbexpr_cs,\n",
    "        'pbmeta_cs':pbmeta_cs,\n",
    "        'scaled_df':scaled_df,\n",
    "        'coefs':coefs,\n",
    "        't_idx':t_idx,\n",
    "        'genes':genes\n",
    "        \n",
    "    })\n",
    "    return(res0)"
   ]
  },
  {
   "cell_type": "code",
   "execution_count": 13,
   "metadata": {},
   "outputs": [],
   "source": [
    "### Test ###\n",
    "\n",
    "resNE = create_gene_signatures_topN('NE', 'gi_epithelial', degs, pbexpr, pbmeta, 101)\n",
    "resNS = create_gene_signatures_topN('NS', 'gi_epithelial', degs, pbexpr, pbmeta, 101)\n",
    "resM  = create_gene_signatures_topN('M',  'gi_epithelial', degs, pbexpr, pbmeta, 101)\n",
    "resD  = create_gene_signatures_topN('D',  'gi_epithelial', degs, pbexpr, pbmeta, 101)\n",
    "resT  = create_gene_signatures_topN('T',  'gi_epithelial', degs, pbexpr, pbmeta, 101)\n",
    "resDict = dict({\n",
    "    'NE':resNE,\n",
    "    'NS':resNS,\n",
    "    'M':resM,\n",
    "    'D':resD,\n",
    "    'T':resT\n",
    "})\n"
   ]
  },
  {
   "cell_type": "code",
   "execution_count": 14,
   "metadata": {},
   "outputs": [
    {
     "data": {
      "text/plain": [
       "201"
      ]
     },
     "execution_count": 14,
     "metadata": {},
     "output_type": "execute_result"
    }
   ],
   "source": [
    "len(resNS['genes'])"
   ]
  },
  {
   "cell_type": "code",
   "execution_count": 15,
   "metadata": {},
   "outputs": [
    {
     "name": "stdout",
     "output_type": "stream",
     "text": [
      "gene overlap: NE  NS  8\n",
      "gene overlap: NE  M  10\n",
      "gene overlap: NE  D  10\n",
      "gene overlap: NE  T  20\n",
      "gene overlap: NS  M  4\n",
      "gene overlap: NS  D  2\n",
      "gene overlap: NS  T  2\n",
      "gene overlap: M  NS  4\n",
      "gene overlap: D  NS  2\n",
      "gene overlap: D  T  6\n",
      "gene overlap: T  NS  2\n",
      "gene overlap: T  D  6\n"
     ]
    },
    {
     "data": {
      "text/plain": [
       "76"
      ]
     },
     "execution_count": 15,
     "metadata": {},
     "output_type": "execute_result"
    }
   ],
   "source": [
    "sum_gene_overlaps(resDict)"
   ]
  },
  {
   "cell_type": "code",
   "execution_count": 16,
   "metadata": {},
   "outputs": [
    {
     "ename": "NameError",
     "evalue": "name 'scaled_df' is not defined",
     "output_type": "error",
     "traceback": [
      "\u001b[0;31m---------------------------------------------------------------------------\u001b[0m",
      "\u001b[0;31mNameError\u001b[0m                                 Traceback (most recent call last)",
      "Input \u001b[0;32mIn [16]\u001b[0m, in \u001b[0;36m<module>\u001b[0;34m\u001b[0m\n\u001b[1;32m      9\u001b[0m \u001b[38;5;28;01mfor\u001b[39;00m ri \u001b[38;5;129;01min\u001b[39;00m resDict\u001b[38;5;241m.\u001b[39mkeys():\n\u001b[1;32m     10\u001b[0m     genes \u001b[38;5;241m=\u001b[39m np\u001b[38;5;241m.\u001b[39mconcatenate( (genes, resDict[ri][\u001b[38;5;124m'\u001b[39m\u001b[38;5;124mgenes\u001b[39m\u001b[38;5;124m'\u001b[39m]\u001b[38;5;241m.\u001b[39mvalues) )\n\u001b[0;32m---> 12\u001b[0m X \u001b[38;5;241m=\u001b[39m \u001b[43mscaled_df\u001b[49m\u001b[38;5;241m.\u001b[39mloc[genes,:]     \n\u001b[1;32m     14\u001b[0m idx \u001b[38;5;241m=\u001b[39m [xi \u001b[38;5;28;01mfor\u001b[39;00m xi \u001b[38;5;129;01min\u001b[39;00m \u001b[38;5;28mrange\u001b[39m(\u001b[38;5;241m0\u001b[39m,\u001b[38;5;241m49\u001b[39m)]\n\u001b[1;32m     15\u001b[0m idx\u001b[38;5;241m.\u001b[39mremove(si)\n",
      "\u001b[0;31mNameError\u001b[0m: name 'scaled_df' is not defined"
     ]
    }
   ],
   "source": [
    "from sklearn import preprocessing\n",
    "from sklearn.ensemble import GradientBoostingClassifier\n",
    "\n",
    "si = 2\n",
    "genes = np.array([])\n",
    "preds_mat = []\n",
    "dx_list = np.array(['NE','NS','M','D','T'])\n",
    "\n",
    "for ri in resDict.keys():\n",
    "    genes = np.concatenate( (genes, resDict[ri]['genes'].values) )\n",
    "\n",
    "X = scaled_df.loc[genes,:]     \n",
    "\n",
    "idx = [xi for xi in range(0,49)]\n",
    "idx.remove(si)\n",
    "\n",
    "X1 = X.iloc[:,idx]\n",
    "X2 = pd.DataFrame(data=X.iloc[:,si], index=X.index)\n",
    "\n",
    "y = pbmeta_gi.dx.values\n",
    "y1 = y[idx]\n",
    "\n",
    "clf = LogisticRegression(penalty='l1', solver='liblinear', max_iter=1000).fit(X1.T, y1)\n",
    "preds = clf.predict_proba(X2.T)\n",
    "\n",
    "#clf = GradientBoostingClassifier(n_estimators=100, learning_rate=0.3,\n",
    "#         max_depth=6, subsample=0.7).fit(X1.T, y1)\n",
    "\n",
    "#preds = clf.predict_proba(X2.T)\n",
    "\n",
    "preds"
   ]
  },
  {
   "cell_type": "code",
   "execution_count": 737,
   "metadata": {},
   "outputs": [
    {
     "data": {
      "application/vnd.plotly.v1+json": {
       "config": {
        "plotlyServerURL": "https://plot.ly"
       },
       "data": [
        {
         "coloraxis": "coloraxis",
         "hovertemplate": "x: %{x}<br>y: %{y}<br>color: %{z}<extra></extra>",
         "name": "0",
         "type": "heatmap",
         "xaxis": "x",
         "yaxis": "y",
         "z": [
          [
           0.9543377565233148,
           0.004506332106135771,
           0.0025634757186252135,
           0.027904110324362855,
           0.010688325327561438
          ],
          [
           0.8501196224447318,
           0.06509399675681189,
           0.06489174517790185,
           0.01530362554511706,
           0.004591010075437413
          ],
          [
           0.12731871887542195,
           0.2343300735241555,
           0.023837901506465878,
           0.2901812599685348,
           0.32433204612542194
          ],
          [
           0.6736093639635983,
           0.035393482625162925,
           0.1943637788058333,
           0.06957175912633687,
           0.027061615479068702
          ],
          [
           0.8512624938204003,
           0.004074076826728219,
           0.013766922787738545,
           0.01856612875407832,
           0.11233037781105469
          ],
          [
           0.8692143239105573,
           0.06465935861903753,
           0.01602593787358307,
           0.007595899145484894,
           0.04250448045133714
          ],
          [
           0.8745086981848448,
           0.014105258531905925,
           0.02480434999526974,
           0.05410705718531353,
           0.032474636102666064
          ],
          [
           0.8503930461304025,
           0.0853313921860683,
           0.0023305521853670317,
           0.012339742663460499,
           0.04960526683470181
          ],
          [
           0.7233495091350134,
           0.1866231388570045,
           0.03322861935984796,
           0.023843051620181074,
           0.032955681027953126
          ],
          [
           0.987053931176659,
           0.0009900880015774724,
           0.006167678447630133,
           0.003934587753077176,
           0.0018537146210561473
          ],
          [
           0.7357596231048069,
           0.04020649183883061,
           0.009934803603464248,
           0.02279406269746244,
           0.1913050187554357
          ],
          [
           0.04901793142847885,
           0.08419253282491974,
           0.6222676602642302,
           0.12077305437617139,
           0.12374882110619986
          ],
          [
           0.5063320227674712,
           0.01457963124191815,
           0.43118780003080515,
           0.03160096802938542,
           0.016299577930419848
          ],
          [
           0.17324031506606824,
           0.6597557621807772,
           0.05648703568767926,
           0.0402238924908184,
           0.07029299457465689
          ],
          [
           0.060614784675477415,
           0.7866931306629233,
           0.03886034576196997,
           0.012762161185177055,
           0.10106957771445224
          ],
          [
           0.12512130482134148,
           0.12102068600624206,
           0.13641693620267703,
           0.07188669214994424,
           0.5455543808197952
          ],
          [
           0.06907646863233136,
           0.7989784137741345,
           0.1112528143996446,
           0.019454955232199016,
           0.001237347961690608
          ],
          [
           0.007644021080272804,
           0.7584657601681366,
           0.048706159901907686,
           0.01732414005493394,
           0.16785991879474904
          ],
          [
           0.2033178611495698,
           0.5991613068675258,
           0.05108354988286879,
           0.024911328179758194,
           0.1215259539202775
          ],
          [
           0.06580995600426269,
           0.7481239519709628,
           0.1077911690935639,
           0.029479493387831325,
           0.048795429543379135
          ],
          [
           0.06457807564733178,
           0.6578461251278325,
           0.13198672869305222,
           0.021034722356253737,
           0.1245543481755298
          ],
          [
           0.1194291413823472,
           0.09717521173021415,
           0.39445318313778155,
           0.04375928944137977,
           0.3451831743082774
          ],
          [
           0.11601970743499226,
           0.1600440268531149,
           0.1952328615582283,
           0.43421167592464305,
           0.09449172822902148
          ],
          [
           0.05356504049394932,
           0.030572434153388558,
           0.7467984101662372,
           0.01999473046117882,
           0.14906938472524608
          ],
          [
           0.16161909017971127,
           0.032452655085289404,
           0.7066637138124561,
           0.02008871126335016,
           0.0791758296591932
          ],
          [
           0.05321385451059249,
           0.05986054623648315,
           0.8112752036213833,
           0.04412837579112395,
           0.031522019840417206
          ],
          [
           0.0494115551446209,
           0.057106230633826756,
           0.8043327697848492,
           0.04546429352628298,
           0.04368515091042018
          ],
          [
           0.03634703450584338,
           0.04163582475060889,
           0.8475026450366112,
           0.05616020587490286,
           0.018354289832033705
          ],
          [
           0.029185991523902628,
           0.03426122307217843,
           0.7993980470252762,
           0.11860676417023758,
           0.01854797420840517
          ],
          [
           0.03582070129505479,
           0.032343871367946406,
           0.6081860645193318,
           0.20136289619913067,
           0.12228646661853629
          ],
          [
           0.23846546764140814,
           0.04185059807348523,
           0.486920729156129,
           0.12345908921513767,
           0.10930411591384016
          ],
          [
           0.11059392669479073,
           0.025408475027734315,
           0.822596047586433,
           0.021065870463832806,
           0.020335680227209173
          ],
          [
           0.6353970330654416,
           0.08352389850262165,
           0.068145353042463,
           0.07932488482019404,
           0.13360883056927975
          ],
          [
           0.0831071235398676,
           0.05024177873050295,
           0.053424871944916526,
           0.29806632103438624,
           0.5151599047503268
          ],
          [
           0.050738438966519035,
           0.022025387065048793,
           0.016169319027088912,
           0.7339989085305271,
           0.17706794641081633
          ],
          [
           0.04175118498025903,
           0.03968081593182782,
           0.5532466625954235,
           0.02771038602488795,
           0.33761095046760164
          ],
          [
           0.011376712020101518,
           0.03665864568381681,
           0.10957558743044588,
           0.6535980476988998,
           0.18879100716673602
          ],
          [
           0.05917361693891748,
           0.13543029034476625,
           0.1031907067624705,
           0.040806184770275755,
           0.66139920118357
          ],
          [
           0.049690855094970295,
           0.6591610324713024,
           0.2109194221066418,
           0.04578408012984559,
           0.03444461019723995
          ],
          [
           0.05365613350601037,
           0.12842484043308408,
           0.001166638245508598,
           0.1294970955511409,
           0.6872552922642561
          ],
          [
           0.1264056155458226,
           0.06916604812633972,
           0.12939008195100737,
           0.08318475867233147,
           0.5918534957044987
          ],
          [
           0.051460737061348995,
           0.033552094094073996,
           0.06610789956834659,
           0.033267381420993204,
           0.8156118878552372
          ],
          [
           0.42851736695073017,
           0.010512647490806033,
           0.02313549782055167,
           0.035124555870119416,
           0.5027099318677928
          ],
          [
           0.12034853100843214,
           0.017550114557521753,
           0.11743758449690211,
           0.05362883260285749,
           0.6910349373342864
          ],
          [
           0.11727855908719687,
           0.022152046859208678,
           0.09521266597203068,
           0.05121784403895938,
           0.7141388840426043
          ],
          [
           0.22723410626812113,
           0.009863032442558074,
           0.01592853527828486,
           0.04780205302088587,
           0.6991722729901501
          ],
          [
           0.0012977728694342138,
           0.031569295308802196,
           0.10708066827471557,
           0.03973542525469329,
           0.8203168382923548
          ],
          [
           0.07845092710100723,
           0.10706231653218799,
           0.05884830991602658,
           0.07744283010940643,
           0.6781956163413717
          ],
          [
           0.0672311177126531,
           0.045616523155281544,
           0.09067235550465069,
           0.0598742115944394,
           0.7366057920329753
          ]
         ]
        }
       ],
       "layout": {
        "coloraxis": {
         "colorscale": [
          [
           0,
           "rgb(5,48,97)"
          ],
          [
           0.1,
           "rgb(33,102,172)"
          ],
          [
           0.2,
           "rgb(67,147,195)"
          ],
          [
           0.3,
           "rgb(146,197,222)"
          ],
          [
           0.4,
           "rgb(209,229,240)"
          ],
          [
           0.5,
           "rgb(247,247,247)"
          ],
          [
           0.6,
           "rgb(253,219,199)"
          ],
          [
           0.7,
           "rgb(244,165,130)"
          ],
          [
           0.8,
           "rgb(214,96,77)"
          ],
          [
           0.9,
           "rgb(178,24,43)"
          ],
          [
           1,
           "rgb(103,0,31)"
          ]
         ]
        },
        "font": {
         "color": "blue",
         "family": "Courier New",
         "size": 8
        },
        "height": 400,
        "legend": {
         "title": {
          "font": {
           "color": "green"
          }
         }
        },
        "margin": {
         "t": 60
        },
        "template": {
         "data": {
          "bar": [
           {
            "error_x": {
             "color": "#2a3f5f"
            },
            "error_y": {
             "color": "#2a3f5f"
            },
            "marker": {
             "line": {
              "color": "#E5ECF6",
              "width": 0.5
             },
             "pattern": {
              "fillmode": "overlay",
              "size": 10,
              "solidity": 0.2
             }
            },
            "type": "bar"
           }
          ],
          "barpolar": [
           {
            "marker": {
             "line": {
              "color": "#E5ECF6",
              "width": 0.5
             },
             "pattern": {
              "fillmode": "overlay",
              "size": 10,
              "solidity": 0.2
             }
            },
            "type": "barpolar"
           }
          ],
          "carpet": [
           {
            "aaxis": {
             "endlinecolor": "#2a3f5f",
             "gridcolor": "white",
             "linecolor": "white",
             "minorgridcolor": "white",
             "startlinecolor": "#2a3f5f"
            },
            "baxis": {
             "endlinecolor": "#2a3f5f",
             "gridcolor": "white",
             "linecolor": "white",
             "minorgridcolor": "white",
             "startlinecolor": "#2a3f5f"
            },
            "type": "carpet"
           }
          ],
          "choropleth": [
           {
            "colorbar": {
             "outlinewidth": 0,
             "ticks": ""
            },
            "type": "choropleth"
           }
          ],
          "contour": [
           {
            "colorbar": {
             "outlinewidth": 0,
             "ticks": ""
            },
            "colorscale": [
             [
              0,
              "#0d0887"
             ],
             [
              0.1111111111111111,
              "#46039f"
             ],
             [
              0.2222222222222222,
              "#7201a8"
             ],
             [
              0.3333333333333333,
              "#9c179e"
             ],
             [
              0.4444444444444444,
              "#bd3786"
             ],
             [
              0.5555555555555556,
              "#d8576b"
             ],
             [
              0.6666666666666666,
              "#ed7953"
             ],
             [
              0.7777777777777778,
              "#fb9f3a"
             ],
             [
              0.8888888888888888,
              "#fdca26"
             ],
             [
              1,
              "#f0f921"
             ]
            ],
            "type": "contour"
           }
          ],
          "contourcarpet": [
           {
            "colorbar": {
             "outlinewidth": 0,
             "ticks": ""
            },
            "type": "contourcarpet"
           }
          ],
          "heatmap": [
           {
            "colorbar": {
             "outlinewidth": 0,
             "ticks": ""
            },
            "colorscale": [
             [
              0,
              "#0d0887"
             ],
             [
              0.1111111111111111,
              "#46039f"
             ],
             [
              0.2222222222222222,
              "#7201a8"
             ],
             [
              0.3333333333333333,
              "#9c179e"
             ],
             [
              0.4444444444444444,
              "#bd3786"
             ],
             [
              0.5555555555555556,
              "#d8576b"
             ],
             [
              0.6666666666666666,
              "#ed7953"
             ],
             [
              0.7777777777777778,
              "#fb9f3a"
             ],
             [
              0.8888888888888888,
              "#fdca26"
             ],
             [
              1,
              "#f0f921"
             ]
            ],
            "type": "heatmap"
           }
          ],
          "heatmapgl": [
           {
            "colorbar": {
             "outlinewidth": 0,
             "ticks": ""
            },
            "colorscale": [
             [
              0,
              "#0d0887"
             ],
             [
              0.1111111111111111,
              "#46039f"
             ],
             [
              0.2222222222222222,
              "#7201a8"
             ],
             [
              0.3333333333333333,
              "#9c179e"
             ],
             [
              0.4444444444444444,
              "#bd3786"
             ],
             [
              0.5555555555555556,
              "#d8576b"
             ],
             [
              0.6666666666666666,
              "#ed7953"
             ],
             [
              0.7777777777777778,
              "#fb9f3a"
             ],
             [
              0.8888888888888888,
              "#fdca26"
             ],
             [
              1,
              "#f0f921"
             ]
            ],
            "type": "heatmapgl"
           }
          ],
          "histogram": [
           {
            "marker": {
             "pattern": {
              "fillmode": "overlay",
              "size": 10,
              "solidity": 0.2
             }
            },
            "type": "histogram"
           }
          ],
          "histogram2d": [
           {
            "colorbar": {
             "outlinewidth": 0,
             "ticks": ""
            },
            "colorscale": [
             [
              0,
              "#0d0887"
             ],
             [
              0.1111111111111111,
              "#46039f"
             ],
             [
              0.2222222222222222,
              "#7201a8"
             ],
             [
              0.3333333333333333,
              "#9c179e"
             ],
             [
              0.4444444444444444,
              "#bd3786"
             ],
             [
              0.5555555555555556,
              "#d8576b"
             ],
             [
              0.6666666666666666,
              "#ed7953"
             ],
             [
              0.7777777777777778,
              "#fb9f3a"
             ],
             [
              0.8888888888888888,
              "#fdca26"
             ],
             [
              1,
              "#f0f921"
             ]
            ],
            "type": "histogram2d"
           }
          ],
          "histogram2dcontour": [
           {
            "colorbar": {
             "outlinewidth": 0,
             "ticks": ""
            },
            "colorscale": [
             [
              0,
              "#0d0887"
             ],
             [
              0.1111111111111111,
              "#46039f"
             ],
             [
              0.2222222222222222,
              "#7201a8"
             ],
             [
              0.3333333333333333,
              "#9c179e"
             ],
             [
              0.4444444444444444,
              "#bd3786"
             ],
             [
              0.5555555555555556,
              "#d8576b"
             ],
             [
              0.6666666666666666,
              "#ed7953"
             ],
             [
              0.7777777777777778,
              "#fb9f3a"
             ],
             [
              0.8888888888888888,
              "#fdca26"
             ],
             [
              1,
              "#f0f921"
             ]
            ],
            "type": "histogram2dcontour"
           }
          ],
          "mesh3d": [
           {
            "colorbar": {
             "outlinewidth": 0,
             "ticks": ""
            },
            "type": "mesh3d"
           }
          ],
          "parcoords": [
           {
            "line": {
             "colorbar": {
              "outlinewidth": 0,
              "ticks": ""
             }
            },
            "type": "parcoords"
           }
          ],
          "pie": [
           {
            "automargin": true,
            "type": "pie"
           }
          ],
          "scatter": [
           {
            "fillpattern": {
             "fillmode": "overlay",
             "size": 10,
             "solidity": 0.2
            },
            "type": "scatter"
           }
          ],
          "scatter3d": [
           {
            "line": {
             "colorbar": {
              "outlinewidth": 0,
              "ticks": ""
             }
            },
            "marker": {
             "colorbar": {
              "outlinewidth": 0,
              "ticks": ""
             }
            },
            "type": "scatter3d"
           }
          ],
          "scattercarpet": [
           {
            "marker": {
             "colorbar": {
              "outlinewidth": 0,
              "ticks": ""
             }
            },
            "type": "scattercarpet"
           }
          ],
          "scattergeo": [
           {
            "marker": {
             "colorbar": {
              "outlinewidth": 0,
              "ticks": ""
             }
            },
            "type": "scattergeo"
           }
          ],
          "scattergl": [
           {
            "marker": {
             "colorbar": {
              "outlinewidth": 0,
              "ticks": ""
             }
            },
            "type": "scattergl"
           }
          ],
          "scattermapbox": [
           {
            "marker": {
             "colorbar": {
              "outlinewidth": 0,
              "ticks": ""
             }
            },
            "type": "scattermapbox"
           }
          ],
          "scatterpolar": [
           {
            "marker": {
             "colorbar": {
              "outlinewidth": 0,
              "ticks": ""
             }
            },
            "type": "scatterpolar"
           }
          ],
          "scatterpolargl": [
           {
            "marker": {
             "colorbar": {
              "outlinewidth": 0,
              "ticks": ""
             }
            },
            "type": "scatterpolargl"
           }
          ],
          "scatterternary": [
           {
            "marker": {
             "colorbar": {
              "outlinewidth": 0,
              "ticks": ""
             }
            },
            "type": "scatterternary"
           }
          ],
          "surface": [
           {
            "colorbar": {
             "outlinewidth": 0,
             "ticks": ""
            },
            "colorscale": [
             [
              0,
              "#0d0887"
             ],
             [
              0.1111111111111111,
              "#46039f"
             ],
             [
              0.2222222222222222,
              "#7201a8"
             ],
             [
              0.3333333333333333,
              "#9c179e"
             ],
             [
              0.4444444444444444,
              "#bd3786"
             ],
             [
              0.5555555555555556,
              "#d8576b"
             ],
             [
              0.6666666666666666,
              "#ed7953"
             ],
             [
              0.7777777777777778,
              "#fb9f3a"
             ],
             [
              0.8888888888888888,
              "#fdca26"
             ],
             [
              1,
              "#f0f921"
             ]
            ],
            "type": "surface"
           }
          ],
          "table": [
           {
            "cells": {
             "fill": {
              "color": "#EBF0F8"
             },
             "line": {
              "color": "white"
             }
            },
            "header": {
             "fill": {
              "color": "#C8D4E3"
             },
             "line": {
              "color": "white"
             }
            },
            "type": "table"
           }
          ]
         },
         "layout": {
          "annotationdefaults": {
           "arrowcolor": "#2a3f5f",
           "arrowhead": 0,
           "arrowwidth": 1
          },
          "autotypenumbers": "strict",
          "coloraxis": {
           "colorbar": {
            "outlinewidth": 0,
            "ticks": ""
           }
          },
          "colorscale": {
           "diverging": [
            [
             0,
             "#8e0152"
            ],
            [
             0.1,
             "#c51b7d"
            ],
            [
             0.2,
             "#de77ae"
            ],
            [
             0.3,
             "#f1b6da"
            ],
            [
             0.4,
             "#fde0ef"
            ],
            [
             0.5,
             "#f7f7f7"
            ],
            [
             0.6,
             "#e6f5d0"
            ],
            [
             0.7,
             "#b8e186"
            ],
            [
             0.8,
             "#7fbc41"
            ],
            [
             0.9,
             "#4d9221"
            ],
            [
             1,
             "#276419"
            ]
           ],
           "sequential": [
            [
             0,
             "#0d0887"
            ],
            [
             0.1111111111111111,
             "#46039f"
            ],
            [
             0.2222222222222222,
             "#7201a8"
            ],
            [
             0.3333333333333333,
             "#9c179e"
            ],
            [
             0.4444444444444444,
             "#bd3786"
            ],
            [
             0.5555555555555556,
             "#d8576b"
            ],
            [
             0.6666666666666666,
             "#ed7953"
            ],
            [
             0.7777777777777778,
             "#fb9f3a"
            ],
            [
             0.8888888888888888,
             "#fdca26"
            ],
            [
             1,
             "#f0f921"
            ]
           ],
           "sequentialminus": [
            [
             0,
             "#0d0887"
            ],
            [
             0.1111111111111111,
             "#46039f"
            ],
            [
             0.2222222222222222,
             "#7201a8"
            ],
            [
             0.3333333333333333,
             "#9c179e"
            ],
            [
             0.4444444444444444,
             "#bd3786"
            ],
            [
             0.5555555555555556,
             "#d8576b"
            ],
            [
             0.6666666666666666,
             "#ed7953"
            ],
            [
             0.7777777777777778,
             "#fb9f3a"
            ],
            [
             0.8888888888888888,
             "#fdca26"
            ],
            [
             1,
             "#f0f921"
            ]
           ]
          },
          "colorway": [
           "#636efa",
           "#EF553B",
           "#00cc96",
           "#ab63fa",
           "#FFA15A",
           "#19d3f3",
           "#FF6692",
           "#B6E880",
           "#FF97FF",
           "#FECB52"
          ],
          "font": {
           "color": "#2a3f5f"
          },
          "geo": {
           "bgcolor": "white",
           "lakecolor": "white",
           "landcolor": "#E5ECF6",
           "showlakes": true,
           "showland": true,
           "subunitcolor": "white"
          },
          "hoverlabel": {
           "align": "left"
          },
          "hovermode": "closest",
          "mapbox": {
           "style": "light"
          },
          "paper_bgcolor": "white",
          "plot_bgcolor": "#E5ECF6",
          "polar": {
           "angularaxis": {
            "gridcolor": "white",
            "linecolor": "white",
            "ticks": ""
           },
           "bgcolor": "#E5ECF6",
           "radialaxis": {
            "gridcolor": "white",
            "linecolor": "white",
            "ticks": ""
           }
          },
          "scene": {
           "xaxis": {
            "backgroundcolor": "#E5ECF6",
            "gridcolor": "white",
            "gridwidth": 2,
            "linecolor": "white",
            "showbackground": true,
            "ticks": "",
            "zerolinecolor": "white"
           },
           "yaxis": {
            "backgroundcolor": "#E5ECF6",
            "gridcolor": "white",
            "gridwidth": 2,
            "linecolor": "white",
            "showbackground": true,
            "ticks": "",
            "zerolinecolor": "white"
           },
           "zaxis": {
            "backgroundcolor": "#E5ECF6",
            "gridcolor": "white",
            "gridwidth": 2,
            "linecolor": "white",
            "showbackground": true,
            "ticks": "",
            "zerolinecolor": "white"
           }
          },
          "shapedefaults": {
           "line": {
            "color": "#2a3f5f"
           }
          },
          "ternary": {
           "aaxis": {
            "gridcolor": "white",
            "linecolor": "white",
            "ticks": ""
           },
           "baxis": {
            "gridcolor": "white",
            "linecolor": "white",
            "ticks": ""
           },
           "bgcolor": "#E5ECF6",
           "caxis": {
            "gridcolor": "white",
            "linecolor": "white",
            "ticks": ""
           }
          },
          "title": {
           "x": 0.05
          },
          "xaxis": {
           "automargin": true,
           "gridcolor": "white",
           "linecolor": "white",
           "ticks": "",
           "title": {
            "standoff": 15
           },
           "zerolinecolor": "white",
           "zerolinewidth": 2
          },
          "yaxis": {
           "automargin": true,
           "gridcolor": "white",
           "linecolor": "white",
           "ticks": "",
           "title": {
            "standoff": 15
           },
           "zerolinecolor": "white",
           "zerolinewidth": 2
          }
         }
        },
        "title": {
         "font": {
          "color": "red",
          "family": "Times New Roman"
         }
        },
        "width": 600,
        "xaxis": {
         "anchor": "y",
         "autorange": true,
         "domain": [
          0,
          1
         ],
         "range": [
          -0.5,
          4.5
         ],
         "side": "top"
        },
        "yaxis": {
         "anchor": "x",
         "autorange": true,
         "domain": [
          0,
          1
         ],
         "range": [
          48.5,
          -0.5
         ]
        }
       }
      },
      "image/png": "[encoded data removed]",
      "text/html": [
       "<div>                            <div id=\"74cbc868-0974-4299-91bf-043d2e28d8a6\" class=\"plotly-graph-div\" style=\"height:400px; width:600px;\"></div>            <script type=\"text/javascript\">                require([\"plotly\"], function(Plotly) {                    window.PLOTLYENV=window.PLOTLYENV || {};                                    if (document.getElementById(\"74cbc868-0974-4299-91bf-043d2e28d8a6\")) {                    Plotly.newPlot(                        \"74cbc868-0974-4299-91bf-043d2e28d8a6\",                        [{\"coloraxis\":\"coloraxis\",\"name\":\"0\",\"z\":[[0.9543377565233148,0.004506332106135771,0.0025634757186252135,0.027904110324362855,0.010688325327561438],[0.8501196224447318,0.06509399675681189,0.06489174517790185,0.01530362554511706,0.004591010075437413],[0.12731871887542195,0.2343300735241555,0.023837901506465878,0.2901812599685348,0.32433204612542194],[0.6736093639635983,0.035393482625162925,0.1943637788058333,0.06957175912633687,0.027061615479068702],[0.8512624938204003,0.004074076826728219,0.013766922787738545,0.01856612875407832,0.11233037781105469],[0.8692143239105573,0.06465935861903753,0.01602593787358307,0.007595899145484894,0.04250448045133714],[0.8745086981848448,0.014105258531905925,0.02480434999526974,0.05410705718531353,0.032474636102666064],[0.8503930461304025,0.0853313921860683,0.0023305521853670317,0.012339742663460499,0.04960526683470181],[0.7233495091350134,0.1866231388570045,0.03322861935984796,0.023843051620181074,0.032955681027953126],[0.987053931176659,0.0009900880015774724,0.006167678447630133,0.003934587753077176,0.0018537146210561473],[0.7357596231048069,0.04020649183883061,0.009934803603464248,0.02279406269746244,0.1913050187554357],[0.04901793142847885,0.08419253282491974,0.6222676602642302,0.12077305437617139,0.12374882110619986],[0.5063320227674712,0.01457963124191815,0.43118780003080515,0.03160096802938542,0.016299577930419848],[0.17324031506606824,0.6597557621807772,0.05648703568767926,0.0402238924908184,0.07029299457465689],[0.060614784675477415,0.7866931306629233,0.03886034576196997,0.012762161185177055,0.10106957771445224],[0.12512130482134148,0.12102068600624206,0.13641693620267703,0.07188669214994424,0.5455543808197952],[0.06907646863233136,0.7989784137741345,0.1112528143996446,0.019454955232199016,0.001237347961690608],[0.007644021080272804,0.7584657601681366,0.048706159901907686,0.01732414005493394,0.16785991879474904],[0.2033178611495698,0.5991613068675258,0.05108354988286879,0.024911328179758194,0.1215259539202775],[0.06580995600426269,0.7481239519709628,0.1077911690935639,0.029479493387831325,0.048795429543379135],[0.06457807564733178,0.6578461251278325,0.13198672869305222,0.021034722356253737,0.1245543481755298],[0.1194291413823472,0.09717521173021415,0.39445318313778155,0.04375928944137977,0.3451831743082774],[0.11601970743499226,0.1600440268531149,0.1952328615582283,0.43421167592464305,0.09449172822902148],[0.05356504049394932,0.030572434153388558,0.7467984101662372,0.01999473046117882,0.14906938472524608],[0.16161909017971127,0.032452655085289404,0.7066637138124561,0.02008871126335016,0.0791758296591932],[0.05321385451059249,0.05986054623648315,0.8112752036213833,0.04412837579112395,0.031522019840417206],[0.0494115551446209,0.057106230633826756,0.8043327697848492,0.04546429352628298,0.04368515091042018],[0.03634703450584338,0.04163582475060889,0.8475026450366112,0.05616020587490286,0.018354289832033705],[0.029185991523902628,0.03426122307217843,0.7993980470252762,0.11860676417023758,0.01854797420840517],[0.03582070129505479,0.032343871367946406,0.6081860645193318,0.20136289619913067,0.12228646661853629],[0.23846546764140814,0.04185059807348523,0.486920729156129,0.12345908921513767,0.10930411591384016],[0.11059392669479073,0.025408475027734315,0.822596047586433,0.021065870463832806,0.020335680227209173],[0.6353970330654416,0.08352389850262165,0.068145353042463,0.07932488482019404,0.13360883056927975],[0.0831071235398676,0.05024177873050295,0.053424871944916526,0.29806632103438624,0.5151599047503268],[0.050738438966519035,0.022025387065048793,0.016169319027088912,0.7339989085305271,0.17706794641081633],[0.04175118498025903,0.03968081593182782,0.5532466625954235,0.02771038602488795,0.33761095046760164],[0.011376712020101518,0.03665864568381681,0.10957558743044588,0.6535980476988998,0.18879100716673602],[0.05917361693891748,0.13543029034476625,0.1031907067624705,0.040806184770275755,0.66139920118357],[0.049690855094970295,0.6591610324713024,0.2109194221066418,0.04578408012984559,0.03444461019723995],[0.05365613350601037,0.12842484043308408,0.001166638245508598,0.1294970955511409,0.6872552922642561],[0.1264056155458226,0.06916604812633972,0.12939008195100737,0.08318475867233147,0.5918534957044987],[0.051460737061348995,0.033552094094073996,0.06610789956834659,0.033267381420993204,0.8156118878552372],[0.42851736695073017,0.010512647490806033,0.02313549782055167,0.035124555870119416,0.5027099318677928],[0.12034853100843214,0.017550114557521753,0.11743758449690211,0.05362883260285749,0.6910349373342864],[0.11727855908719687,0.022152046859208678,0.09521266597203068,0.05121784403895938,0.7141388840426043],[0.22723410626812113,0.009863032442558074,0.01592853527828486,0.04780205302088587,0.6991722729901501],[0.0012977728694342138,0.031569295308802196,0.10708066827471557,0.03973542525469329,0.8203168382923548],[0.07845092710100723,0.10706231653218799,0.05884830991602658,0.07744283010940643,0.6781956163413717],[0.0672311177126531,0.045616523155281544,0.09067235550465069,0.0598742115944394,0.7366057920329753]],\"type\":\"heatmap\",\"xaxis\":\"x\",\"yaxis\":\"y\",\"hovertemplate\":\"x: %{x}<br>y: %{y}<br>color: %{z}<extra></extra>\"}],                        {\"template\":{\"data\":{\"histogram2dcontour\":[{\"type\":\"histogram2dcontour\",\"colorbar\":{\"outlinewidth\":0,\"ticks\":\"\"},\"colorscale\":[[0.0,\"#0d0887\"],[0.1111111111111111,\"#46039f\"],[0.2222222222222222,\"#7201a8\"],[0.3333333333333333,\"#9c179e\"],[0.4444444444444444,\"#bd3786\"],[0.5555555555555556,\"#d8576b\"],[0.6666666666666666,\"#ed7953\"],[0.7777777777777778,\"#fb9f3a\"],[0.8888888888888888,\"#fdca26\"],[1.0,\"#f0f921\"]]}],\"choropleth\":[{\"type\":\"choropleth\",\"colorbar\":{\"outlinewidth\":0,\"ticks\":\"\"}}],\"histogram2d\":[{\"type\":\"histogram2d\",\"colorbar\":{\"outlinewidth\":0,\"ticks\":\"\"},\"colorscale\":[[0.0,\"#0d0887\"],[0.1111111111111111,\"#46039f\"],[0.2222222222222222,\"#7201a8\"],[0.3333333333333333,\"#9c179e\"],[0.4444444444444444,\"#bd3786\"],[0.5555555555555556,\"#d8576b\"],[0.6666666666666666,\"#ed7953\"],[0.7777777777777778,\"#fb9f3a\"],[0.8888888888888888,\"#fdca26\"],[1.0,\"#f0f921\"]]}],\"heatmap\":[{\"type\":\"heatmap\",\"colorbar\":{\"outlinewidth\":0,\"ticks\":\"\"},\"colorscale\":[[0.0,\"#0d0887\"],[0.1111111111111111,\"#46039f\"],[0.2222222222222222,\"#7201a8\"],[0.3333333333333333,\"#9c179e\"],[0.4444444444444444,\"#bd3786\"],[0.5555555555555556,\"#d8576b\"],[0.6666666666666666,\"#ed7953\"],[0.7777777777777778,\"#fb9f3a\"],[0.8888888888888888,\"#fdca26\"],[1.0,\"#f0f921\"]]}],\"heatmapgl\":[{\"type\":\"heatmapgl\",\"colorbar\":{\"outlinewidth\":0,\"ticks\":\"\"},\"colorscale\":[[0.0,\"#0d0887\"],[0.1111111111111111,\"#46039f\"],[0.2222222222222222,\"#7201a8\"],[0.3333333333333333,\"#9c179e\"],[0.4444444444444444,\"#bd3786\"],[0.5555555555555556,\"#d8576b\"],[0.6666666666666666,\"#ed7953\"],[0.7777777777777778,\"#fb9f3a\"],[0.8888888888888888,\"#fdca26\"],[1.0,\"#f0f921\"]]}],\"contourcarpet\":[{\"type\":\"contourcarpet\",\"colorbar\":{\"outlinewidth\":0,\"ticks\":\"\"}}],\"contour\":[{\"type\":\"contour\",\"colorbar\":{\"outlinewidth\":0,\"ticks\":\"\"},\"colorscale\":[[0.0,\"#0d0887\"],[0.1111111111111111,\"#46039f\"],[0.2222222222222222,\"#7201a8\"],[0.3333333333333333,\"#9c179e\"],[0.4444444444444444,\"#bd3786\"],[0.5555555555555556,\"#d8576b\"],[0.6666666666666666,\"#ed7953\"],[0.7777777777777778,\"#fb9f3a\"],[0.8888888888888888,\"#fdca26\"],[1.0,\"#f0f921\"]]}],\"surface\":[{\"type\":\"surface\",\"colorbar\":{\"outlinewidth\":0,\"ticks\":\"\"},\"colorscale\":[[0.0,\"#0d0887\"],[0.1111111111111111,\"#46039f\"],[0.2222222222222222,\"#7201a8\"],[0.3333333333333333,\"#9c179e\"],[0.4444444444444444,\"#bd3786\"],[0.5555555555555556,\"#d8576b\"],[0.6666666666666666,\"#ed7953\"],[0.7777777777777778,\"#fb9f3a\"],[0.8888888888888888,\"#fdca26\"],[1.0,\"#f0f921\"]]}],\"mesh3d\":[{\"type\":\"mesh3d\",\"colorbar\":{\"outlinewidth\":0,\"ticks\":\"\"}}],\"scatter\":[{\"fillpattern\":{\"fillmode\":\"overlay\",\"size\":10,\"solidity\":0.2},\"type\":\"scatter\"}],\"parcoords\":[{\"type\":\"parcoords\",\"line\":{\"colorbar\":{\"outlinewidth\":0,\"ticks\":\"\"}}}],\"scatterpolargl\":[{\"type\":\"scatterpolargl\",\"marker\":{\"colorbar\":{\"outlinewidth\":0,\"ticks\":\"\"}}}],\"bar\":[{\"error_x\":{\"color\":\"#2a3f5f\"},\"error_y\":{\"color\":\"#2a3f5f\"},\"marker\":{\"line\":{\"color\":\"#E5ECF6\",\"width\":0.5},\"pattern\":{\"fillmode\":\"overlay\",\"size\":10,\"solidity\":0.2}},\"type\":\"bar\"}],\"scattergeo\":[{\"type\":\"scattergeo\",\"marker\":{\"colorbar\":{\"outlinewidth\":0,\"ticks\":\"\"}}}],\"scatterpolar\":[{\"type\":\"scatterpolar\",\"marker\":{\"colorbar\":{\"outlinewidth\":0,\"ticks\":\"\"}}}],\"histogram\":[{\"marker\":{\"pattern\":{\"fillmode\":\"overlay\",\"size\":10,\"solidity\":0.2}},\"type\":\"histogram\"}],\"scattergl\":[{\"type\":\"scattergl\",\"marker\":{\"colorbar\":{\"outlinewidth\":0,\"ticks\":\"\"}}}],\"scatter3d\":[{\"type\":\"scatter3d\",\"line\":{\"colorbar\":{\"outlinewidth\":0,\"ticks\":\"\"}},\"marker\":{\"colorbar\":{\"outlinewidth\":0,\"ticks\":\"\"}}}],\"scattermapbox\":[{\"type\":\"scattermapbox\",\"marker\":{\"colorbar\":{\"outlinewidth\":0,\"ticks\":\"\"}}}],\"scatterternary\":[{\"type\":\"scatterternary\",\"marker\":{\"colorbar\":{\"outlinewidth\":0,\"ticks\":\"\"}}}],\"scattercarpet\":[{\"type\":\"scattercarpet\",\"marker\":{\"colorbar\":{\"outlinewidth\":0,\"ticks\":\"\"}}}],\"carpet\":[{\"aaxis\":{\"endlinecolor\":\"#2a3f5f\",\"gridcolor\":\"white\",\"linecolor\":\"white\",\"minorgridcolor\":\"white\",\"startlinecolor\":\"#2a3f5f\"},\"baxis\":{\"endlinecolor\":\"#2a3f5f\",\"gridcolor\":\"white\",\"linecolor\":\"white\",\"minorgridcolor\":\"white\",\"startlinecolor\":\"#2a3f5f\"},\"type\":\"carpet\"}],\"table\":[{\"cells\":{\"fill\":{\"color\":\"#EBF0F8\"},\"line\":{\"color\":\"white\"}},\"header\":{\"fill\":{\"color\":\"#C8D4E3\"},\"line\":{\"color\":\"white\"}},\"type\":\"table\"}],\"barpolar\":[{\"marker\":{\"line\":{\"color\":\"#E5ECF6\",\"width\":0.5},\"pattern\":{\"fillmode\":\"overlay\",\"size\":10,\"solidity\":0.2}},\"type\":\"barpolar\"}],\"pie\":[{\"automargin\":true,\"type\":\"pie\"}]},\"layout\":{\"autotypenumbers\":\"strict\",\"colorway\":[\"#636efa\",\"#EF553B\",\"#00cc96\",\"#ab63fa\",\"#FFA15A\",\"#19d3f3\",\"#FF6692\",\"#B6E880\",\"#FF97FF\",\"#FECB52\"],\"font\":{\"color\":\"#2a3f5f\"},\"hovermode\":\"closest\",\"hoverlabel\":{\"align\":\"left\"},\"paper_bgcolor\":\"white\",\"plot_bgcolor\":\"#E5ECF6\",\"polar\":{\"bgcolor\":\"#E5ECF6\",\"angularaxis\":{\"gridcolor\":\"white\",\"linecolor\":\"white\",\"ticks\":\"\"},\"radialaxis\":{\"gridcolor\":\"white\",\"linecolor\":\"white\",\"ticks\":\"\"}},\"ternary\":{\"bgcolor\":\"#E5ECF6\",\"aaxis\":{\"gridcolor\":\"white\",\"linecolor\":\"white\",\"ticks\":\"\"},\"baxis\":{\"gridcolor\":\"white\",\"linecolor\":\"white\",\"ticks\":\"\"},\"caxis\":{\"gridcolor\":\"white\",\"linecolor\":\"white\",\"ticks\":\"\"}},\"coloraxis\":{\"colorbar\":{\"outlinewidth\":0,\"ticks\":\"\"}},\"colorscale\":{\"sequential\":[[0.0,\"#0d0887\"],[0.1111111111111111,\"#46039f\"],[0.2222222222222222,\"#7201a8\"],[0.3333333333333333,\"#9c179e\"],[0.4444444444444444,\"#bd3786\"],[0.5555555555555556,\"#d8576b\"],[0.6666666666666666,\"#ed7953\"],[0.7777777777777778,\"#fb9f3a\"],[0.8888888888888888,\"#fdca26\"],[1.0,\"#f0f921\"]],\"sequentialminus\":[[0.0,\"#0d0887\"],[0.1111111111111111,\"#46039f\"],[0.2222222222222222,\"#7201a8\"],[0.3333333333333333,\"#9c179e\"],[0.4444444444444444,\"#bd3786\"],[0.5555555555555556,\"#d8576b\"],[0.6666666666666666,\"#ed7953\"],[0.7777777777777778,\"#fb9f3a\"],[0.8888888888888888,\"#fdca26\"],[1.0,\"#f0f921\"]],\"diverging\":[[0,\"#8e0152\"],[0.1,\"#c51b7d\"],[0.2,\"#de77ae\"],[0.3,\"#f1b6da\"],[0.4,\"#fde0ef\"],[0.5,\"#f7f7f7\"],[0.6,\"#e6f5d0\"],[0.7,\"#b8e186\"],[0.8,\"#7fbc41\"],[0.9,\"#4d9221\"],[1,\"#276419\"]]},\"xaxis\":{\"gridcolor\":\"white\",\"linecolor\":\"white\",\"ticks\":\"\",\"title\":{\"standoff\":15},\"zerolinecolor\":\"white\",\"automargin\":true,\"zerolinewidth\":2},\"yaxis\":{\"gridcolor\":\"white\",\"linecolor\":\"white\",\"ticks\":\"\",\"title\":{\"standoff\":15},\"zerolinecolor\":\"white\",\"automargin\":true,\"zerolinewidth\":2},\"scene\":{\"xaxis\":{\"backgroundcolor\":\"#E5ECF6\",\"gridcolor\":\"white\",\"linecolor\":\"white\",\"showbackground\":true,\"ticks\":\"\",\"zerolinecolor\":\"white\",\"gridwidth\":2},\"yaxis\":{\"backgroundcolor\":\"#E5ECF6\",\"gridcolor\":\"white\",\"linecolor\":\"white\",\"showbackground\":true,\"ticks\":\"\",\"zerolinecolor\":\"white\",\"gridwidth\":2},\"zaxis\":{\"backgroundcolor\":\"#E5ECF6\",\"gridcolor\":\"white\",\"linecolor\":\"white\",\"showbackground\":true,\"ticks\":\"\",\"zerolinecolor\":\"white\",\"gridwidth\":2}},\"shapedefaults\":{\"line\":{\"color\":\"#2a3f5f\"}},\"annotationdefaults\":{\"arrowcolor\":\"#2a3f5f\",\"arrowhead\":0,\"arrowwidth\":1},\"geo\":{\"bgcolor\":\"white\",\"landcolor\":\"#E5ECF6\",\"subunitcolor\":\"white\",\"showland\":true,\"showlakes\":true,\"lakecolor\":\"white\"},\"title\":{\"x\":0.05},\"mapbox\":{\"style\":\"light\"}}},\"xaxis\":{\"anchor\":\"y\",\"domain\":[0.0,1.0],\"side\":\"top\"},\"yaxis\":{\"anchor\":\"x\",\"domain\":[0.0,1.0],\"autorange\":\"reversed\"},\"coloraxis\":{\"colorscale\":[[0.0,\"rgb(5,48,97)\"],[0.1,\"rgb(33,102,172)\"],[0.2,\"rgb(67,147,195)\"],[0.3,\"rgb(146,197,222)\"],[0.4,\"rgb(209,229,240)\"],[0.5,\"rgb(247,247,247)\"],[0.6,\"rgb(253,219,199)\"],[0.7,\"rgb(244,165,130)\"],[0.8,\"rgb(214,96,77)\"],[0.9,\"rgb(178,24,43)\"],[1.0,\"rgb(103,0,31)\"]]},\"margin\":{\"t\":60},\"height\":400,\"width\":600,\"font\":{\"size\":8,\"family\":\"Courier New\",\"color\":\"blue\"},\"title\":{\"font\":{\"family\":\"Times New Roman\",\"color\":\"red\"}},\"legend\":{\"title\":{\"font\":{\"color\":\"green\"}}}},                        {\"responsive\": true}                    ).then(function(){\n",
       "                            \n",
       "var gd = document.getElementById('74cbc868-0974-4299-91bf-043d2e28d8a6');\n",
       "var x = new MutationObserver(function (mutations, observer) {{\n",
       "        var display = window.getComputedStyle(gd).display;\n",
       "        if (!display || display === 'none') {{\n",
       "            console.log([gd, 'removed!']);\n",
       "            Plotly.purge(gd);\n",
       "            observer.disconnect();\n",
       "        }}\n",
       "}});\n",
       "\n",
       "// Listen for the removal of the full notebook cells\n",
       "var notebookContainer = gd.closest('#notebook-container');\n",
       "if (notebookContainer) {{\n",
       "    x.observe(notebookContainer, {childList: true});\n",
       "}}\n",
       "\n",
       "// Listen for the clearing of the current output cell\n",
       "var outputEl = gd.closest('.output');\n",
       "if (outputEl) {{\n",
       "    x.observe(outputEl, {childList: true});\n",
       "}}\n",
       "\n",
       "                        })                };                });            </script>        </div>"
      ]
     },
     "metadata": {},
     "output_type": "display_data"
    }
   ],
   "source": [
    "preds = full_model(resDict, scaled_df)\n",
    "\n",
    "plot_full_model(preds)"
   ]
  },
  {
   "cell_type": "code",
   "execution_count": 765,
   "metadata": {},
   "outputs": [],
   "source": [
    "pred_df = get_full_model_table(preds, resDict['NE']['pbmeta_cs'])\n",
    "pred_df.to_csv('gene_sig_tissue_diagnosis_predictions.csv')"
   ]
  },
  {
   "cell_type": "code",
   "execution_count": 769,
   "metadata": {},
   "outputs": [
    {
     "data": {
      "text/plain": [
       "6841"
      ]
     },
     "execution_count": 769,
     "metadata": {},
     "output_type": "execute_result"
    }
   ],
   "source": [
    "len(resDict['NE']['coefs'])"
   ]
  },
  {
   "cell_type": "code",
   "execution_count": 721,
   "metadata": {},
   "outputs": [
    {
     "data": {
      "image/png": "[encoded data removed]",
      "text/plain": [
       "<Figure size 432x288 with 1 Axes>"
      ]
     },
     "metadata": {
      "needs_background": "light"
     },
     "output_type": "display_data"
    }
   ],
   "source": [
    "plot_thresolds(resNE['coefs'], resNE['t_idx'])"
   ]
  },
  {
   "cell_type": "code",
   "execution_count": 722,
   "metadata": {},
   "outputs": [
    {
     "data": {
      "image/png": "[encoded data removed]",
      "text/plain": [
       "<Figure size 432x288 with 1 Axes>"
      ]
     },
     "metadata": {
      "needs_background": "light"
     },
     "output_type": "display_data"
    }
   ],
   "source": [
    "predict_one_dx(resNE['t_idx'], resNE['coefs'], resNE['scaled_df'], \"NE\", resNE['pbmeta_cs'])\n"
   ]
  },
  {
   "cell_type": "code",
   "execution_count": null,
   "metadata": {},
   "outputs": [],
   "source": []
  },
  {
   "cell_type": "code",
   "execution_count": 527,
   "metadata": {},
   "outputs": [],
   "source": []
  },
  {
   "cell_type": "code",
   "execution_count": 528,
   "metadata": {},
   "outputs": [],
   "source": []
  },
  {
   "cell_type": "code",
   "execution_count": 738,
   "metadata": {},
   "outputs": [
    {
     "name": "stderr",
     "output_type": "stream",
     "text": [
      "/home/daveg/.local/lib/python3.8/site-packages/seaborn-0.11.1-py3.8.egg/seaborn/matrix.py:649: UserWarning:\n",
      "\n",
      "Clustering large matrix with scipy. Installing `fastcluster` may give better performance.\n",
      "\n"
     ]
    },
    {
     "data": {
      "text/plain": [
       "<seaborn.matrix.ClusterGrid at 0x7f0f58892370>"
      ]
     },
     "execution_count": 738,
     "metadata": {},
     "output_type": "execute_result"
    },
    {
     "data": {
      "image/png": "[encoded data removed]",
      "text/plain": [
       "<Figure size 720x720 with 4 Axes>"
      ]
     },
     "metadata": {
      "needs_background": "light"
     },
     "output_type": "display_data"
    }
   ],
   "source": [
    "X_raw_T = scaled_df.T\n",
    "X_raw_T['dx'] = pbmeta_gi.dx.values\n",
    "X_raw_T_sum = X_raw_T.groupby(['dx'], as_index=True).apply(lambda x: x.sum())\n",
    "X_raw_T_sum.drop('dx', axis=1, inplace=True)\n",
    "\n",
    "X_raw_T_sum_T = X_raw_T_sum.T\n",
    "X_raw_T_sum_T = X_raw_T_sum_T.loc[:,['NE','NS', 'M', 'D', 'T']]\n",
    "\n",
    "sns.clustermap(data=X_raw_T_sum_T, \n",
    "               col_cluster=False, \n",
    "               row_cluster=True, \n",
    "               z_score=0, \n",
    "               standard_scale=None,\n",
    "               cmap=\"mako\", \n",
    "                      )"
   ]
  },
  {
   "cell_type": "code",
   "execution_count": null,
   "metadata": {},
   "outputs": [],
   "source": []
  }
 ],
 "metadata": {
  "kernelspec": {
   "display_name": "Python 3 (ipykernel)",
   "language": "python",
   "name": "python3"
  },
  "language_info": {
   "codemirror_mode": {
    "name": "ipython",
    "version": 3
   },
   "file_extension": ".py",
   "mimetype": "text/x-python",
   "name": "python",
   "nbconvert_exporter": "python",
   "pygments_lexer": "ipython3",
   "version": "3.10.11"
  }
 },
 "nbformat": 4,
 "nbformat_minor": 4
}
