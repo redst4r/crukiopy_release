{
 "cells": [
  {
   "cell_type": "code",
   "execution_count": 1,
   "metadata": {},
   "outputs": [],
   "source": [
    "#pip install tf-nightly\n",
    "#pip install tfp-nightly"
   ]
  },
  {
   "cell_type": "markdown",
   "metadata": {},
   "source": [
    "pseudobulks"
   ]
  },
  {
   "cell_type": "markdown",
   "metadata": {},
   "source": []
  },
  {
   "cell_type": "code",
   "execution_count": 2,
   "metadata": {},
   "outputs": [],
   "source": [
    "#%reset"
   ]
  },
  {
   "cell_type": "code",
   "execution_count": 3,
   "metadata": {},
   "outputs": [],
   "source": [
    "import scanpy as sc\n",
    "import seaborn as sns\n",
    "import pandas as pd\n",
    "import numpy as np\n",
    "import anndata\n",
    "import itertools\n",
    "import gc\n",
    "from diffexpr.py_deseq import py_DESeq2\n",
    "from rpy2.robjects import Formula"
   ]
  },
  {
   "cell_type": "code",
   "execution_count": 4,
   "metadata": {},
   "outputs": [],
   "source": [
    "q = sc.read_h5ad('../../atlas/Atlas_adatas_June2021_Atlas_final_May2021.h5ad')"
   ]
  },
  {
   "cell_type": "markdown",
   "metadata": {},
   "source": []
  },
  {
   "cell_type": "code",
   "execution_count": 5,
   "metadata": {},
   "outputs": [],
   "source": [
    "def build_design(q, qci):\n",
    "    # build design matrix\n",
    "    patient_ids = ([x[0:3] for x in qci.obs.samplename])\n",
    "    full_sample_df = pd.DataFrame({'patient':patient_ids, 'biosample':qci.obs.samplename, 'dx':qci.obs.diagnosis})\n",
    "    # get the number of cells from each sample\n",
    "    cell_counts = pd.DataFrame(full_sample_df.biosample.value_counts())\n",
    "    cell_counts.columns = ['cell_counts']\n",
    "    cell_counts['biosample'] = cell_counts.index\n",
    "    # merge in the cell counts\n",
    "    full_sample_df = full_sample_df.merge(cell_counts)\n",
    "    # the list of biosamples in this cluster\n",
    "    biosample_list = list(set(full_sample_df.biosample))\n",
    "    # and the order of cells as index\n",
    "    index = np.array(full_sample_df.biosample.tolist())\n",
    "    # then we make the design matrix\n",
    "    sample_df = full_sample_df.drop_duplicates()\n",
    "    sample_df.loc[:,'binned_cell_counts'] = pd.cut(sample_df.cell_counts, bins=[0,5,10,20,40,80,160,100000]) #((sample_df.cell_counts - np.mean(sample_df.cell_counts)) / np.std(sample_df.cell_counts))\n",
    "    return( (biosample_list, index, sample_df) )"
   ]
  },
  {
   "cell_type": "code",
   "execution_count": 6,
   "metadata": {},
   "outputs": [],
   "source": [
    "def build_count_matrix(biosample_list, index, qci, sample_df):\n",
    "    # sum within samples\n",
    "    res0 = pd.DataFrame()\n",
    "    for bsl in biosample_list:\n",
    "        idx = np.argwhere(index == bsl).flatten()\n",
    "        mat = qci.X[idx,:].sum(axis=0)\n",
    "        cnt_sum = mat.flatten().tolist()[0]\n",
    "        if len(res0) == 0:\n",
    "            res0 = pd.DataFrame(cnt_sum, columns=[bsl])\n",
    "        else:\n",
    "            res0 = res0.join(pd.DataFrame(cnt_sum, columns=[bsl]))\n",
    "    count_matrix = res0.loc[:, sample_df.biosample.tolist()]\n",
    "    count_matrix['id'] = qci.var.index.tolist()\n",
    "    count_matrix.index = qci.var.index\n",
    "    return(count_matrix)"
   ]
  },
  {
   "cell_type": "code",
   "execution_count": 7,
   "metadata": {},
   "outputs": [],
   "source": [
    "# batch\n",
    "cellclusters = dict(\n",
    "    epithelial=['0','3','4','6','8','13','19','20','28','31','33','34','35','36','38','39','40'], # 78049 cells, # 32 is heptoid\n",
    "    squamous=['16','18','21'],\n",
    "    fibroblasts=['7'],\n",
    "    myofibroblasts=['15'],\n",
    "    endothelial=['12','15','5', '30', '26'],\n",
    "    stromal=['7','12','15','5', '30', '26'],\n",
    "    neutrophils=['22'],\n",
    "    Bcells=['11','23'],  # 23 plasma?\n",
    "    monocytes=['10'],  # and macs and dcs\n",
    "    cd4_Tcells=['2'],\n",
    "    cd8_Tcells=['1','25'],\n",
    "    NKcells=['14'],\n",
    "    mastcells=['9'],\n",
    "    parietal_cell=['42'],\n",
    "    chief_cell=['4','6']\n",
    ")"
   ]
  },
  {
   "cell_type": "code",
   "execution_count": null,
   "metadata": {},
   "outputs": [],
   "source": [
    "# non batch\n",
    "cellclusters = dict(\n",
    "    epithelial=['0','3','4','6','8','13','19','20','28','31','33','34','35','36','38','39','40'], # 78049 cells, # 32 is heptoid\n",
    "    squamous=['16','18','21'],\n",
    "    fibroblasts=['7'],\n",
    "    myofibroblasts=['15'],\n",
    "    endothelial=['12','15','5', '30', '26'],\n",
    "    stromal=['7','12','15','5', '30', '26'],\n",
    "    neutrophils=['22'],\n",
    "    Bcells=['11','23'],  # 23 plasma?\n",
    "    monocytes=['10'],  # and macs and dcs\n",
    "    cd4_Tcells=['2'],\n",
    "    cd8_Tcells=['1','25'],\n",
    "    NKcells=['14'],\n",
    "    mastcells=['9'],\n",
    "    parietal_cell=['42'],\n",
    "    chief_cell=['4','6']\n",
    ")"
   ]
  },
  {
   "cell_type": "code",
   "execution_count": 8,
   "metadata": {},
   "outputs": [
    {
     "name": "stdout",
     "output_type": "stream",
     "text": [
      "epithelial\n",
      "fibroblasts\n",
      "myofibroblasts\n",
      "endothelial\n",
      "stromal\n",
      "neutrophils\n",
      "Bcells\n",
      "monocytes\n",
      "cd4_Tcells\n",
      "cd8_Tcells\n",
      "NKcells\n",
      "mastcells\n",
      "gastric\n"
     ]
    }
   ],
   "source": [
    "for leiden_label in cellclusters.keys():\n",
    "    print(leiden_label)"
   ]
  },
  {
   "cell_type": "code",
   "execution_count": 9,
   "metadata": {},
   "outputs": [
    {
     "name": "stdout",
     "output_type": "stream",
     "text": [
      "leiden cluster: epithelial\n"
     ]
    },
    {
     "name": "stderr",
     "output_type": "stream",
     "text": [
      "/home/daveg/.local/lib/python3.8/site-packages/pandas/core/indexing.py:844: SettingWithCopyWarning: \n",
      "A value is trying to be set on a copy of a slice from a DataFrame.\n",
      "Try using .loc[row_indexer,col_indexer] = value instead\n",
      "\n",
      "See the caveats in the documentation: https://pandas.pydata.org/pandas-docs/stable/user_guide/indexing.html#returning-a-view-versus-a-copy\n",
      "  self.obj[key] = _infer_fill_value(value)\n",
      "/home/daveg/.local/lib/python3.8/site-packages/pandas/core/indexing.py:965: SettingWithCopyWarning: \n",
      "A value is trying to be set on a copy of a slice from a DataFrame.\n",
      "Try using .loc[row_indexer,col_indexer] = value instead\n",
      "\n",
      "See the caveats in the documentation: https://pandas.pydata.org/pandas-docs/stable/user_guide/indexing.html#returning-a-view-versus-a-copy\n",
      "  self.obj[item] = s\n"
     ]
    },
    {
     "name": "stdout",
     "output_type": "stream",
     "text": [
      "leiden cluster: fibroblasts\n",
      "leiden cluster: myofibroblasts\n",
      "leiden cluster: endothelial\n",
      "leiden cluster: stromal\n",
      "leiden cluster: neutrophils\n",
      "leiden cluster: Bcells\n",
      "leiden cluster: monocytes\n",
      "leiden cluster: cd4_Tcells\n",
      "leiden cluster: cd8_Tcells\n",
      "leiden cluster: NKcells\n",
      "leiden cluster: mastcells\n",
      "leiden cluster: gastric\n"
     ]
    }
   ],
   "source": [
    "clusterlabs = list(set(q.obs.leiden))\n",
    "clusterlabs.sort()\n",
    "res_df = pd.DataFrame()\n",
    "for leiden_label in cellclusters.keys(): #clusterlabs:\n",
    "    # subset the anndata to this cluster\n",
    "    print('leiden cluster: ' + leiden_label)\n",
    "    ### subset data to this cluster\n",
    "    clusterlabels = cellclusters[leiden_label]\n",
    "    qci = q[q.obs.leiden.isin(clusterlabels)]\n",
    "    qci = qci[qci.obs.diagnosis.isin(['NE', 'NS', 'M', 'D', 'T'])]\n",
    "    ###\n",
    "    (biosample_list, index, sample_df) = build_design(q, qci)\n",
    "    # building the pseudobulk count matrix\n",
    "    count_matrix = build_count_matrix(biosample_list, index, qci, sample_df)\n",
    "    sample_df.binned_cell_counts = [str(x) for x in sample_df.binned_cell_counts]\n",
    "    #write it out\n",
    "    count_matrix.to_csv('pseudobulks/'+leiden_label+'_pseudobulk.csv')\n",
    "    sample_df.to_csv('pseudobulks/'+leiden_label+'_metadata.csv')    \n",
    "    del qci\n",
    "    gc.collect()\n"
   ]
  },
  {
   "cell_type": "code",
   "execution_count": 13,
   "metadata": {},
   "outputs": [
    {
     "data": {
      "text/plain": [
       "['hematopoietic precursor cell',\n",
       " 'epithelial cell of esophagus',\n",
       " 'pancreatic ductal cell',\n",
       " 'epithelial cell of stomach',\n",
       " 'pancreatic stellate cell',\n",
       " 'Schwann cell',\n",
       " 'plasmacytoid dendritic cell',\n",
       " 'pancreatic A cell',\n",
       " 'pancreatic PP cell',\n",
       " 'hepatocyte',\n",
       " 'luminal epithelial cell of mammary gland',\n",
       " 'pancreatic D cell',\n",
       " 'dendritic cell',\n",
       " 'natural killer cell',\n",
       " 'goblet cell',\n",
       " 'pulmonary ionocyte',\n",
       " 'macrophage',\n",
       " 'respiratory basal cell',\n",
       " 'striated muscle cell',\n",
       " 'mucus neck cell of gastric gland',\n",
       " 'lymphocyte',\n",
       " 'epithelial cell of lung',\n",
       " 'antibody secreting cell',\n",
       " 'pancreatic epsilon cell',\n",
       " 'mucous cell of stomach',\n",
       " 'neuron',\n",
       " 'smooth muscle cell',\n",
       " 'ciliated columnar cell of tracheobronchial tree',\n",
       " 'neutrophil',\n",
       " 'endothelial cell',\n",
       " 'fibroblast',\n",
       " 'T cell',\n",
       " 'chromaffin cell',\n",
       " 'peptic cell',\n",
       " 'peritubular myoid cell',\n",
       " 'enterocyte',\n",
       " 'lung secretory cell',\n",
       " 'unknown',\n",
       " 'myofibroblast cell',\n",
       " 'granulocyte',\n",
       " 'B cell',\n",
       " 'parietal cell',\n",
       " 'mast cell']"
      ]
     },
     "execution_count": 13,
     "metadata": {},
     "output_type": "execute_result"
    }
   ],
   "source": [
    "cellnames = list(set(q.obs.CL_name))\n",
    "cellnames"
   ]
  },
  {
   "cell_type": "code",
   "execution_count": 17,
   "metadata": {},
   "outputs": [
    {
     "name": "stdout",
     "output_type": "stream",
     "text": [
      "celltype: hematopoietic precursor cell\n"
     ]
    },
    {
     "name": "stderr",
     "output_type": "stream",
     "text": [
      "/home/daveg/.local/lib/python3.8/site-packages/pandas/core/indexing.py:844: SettingWithCopyWarning: \n",
      "A value is trying to be set on a copy of a slice from a DataFrame.\n",
      "Try using .loc[row_indexer,col_indexer] = value instead\n",
      "\n",
      "See the caveats in the documentation: https://pandas.pydata.org/pandas-docs/stable/user_guide/indexing.html#returning-a-view-versus-a-copy\n",
      "  self.obj[key] = _infer_fill_value(value)\n",
      "/home/daveg/.local/lib/python3.8/site-packages/pandas/core/indexing.py:965: SettingWithCopyWarning: \n",
      "A value is trying to be set on a copy of a slice from a DataFrame.\n",
      "Try using .loc[row_indexer,col_indexer] = value instead\n",
      "\n",
      "See the caveats in the documentation: https://pandas.pydata.org/pandas-docs/stable/user_guide/indexing.html#returning-a-view-versus-a-copy\n",
      "  self.obj[item] = s\n"
     ]
    },
    {
     "name": "stdout",
     "output_type": "stream",
     "text": [
      "celltype: epithelial cell of esophagus\n",
      "celltype: pancreatic ductal cell\n",
      "celltype: epithelial cell of stomach\n",
      "celltype: pancreatic stellate cell\n",
      "celltype: Schwann cell\n",
      "celltype: plasmacytoid dendritic cell\n",
      "celltype: pancreatic A cell\n",
      "celltype: pancreatic PP cell\n",
      "celltype: hepatocyte\n",
      "celltype: luminal epithelial cell of mammary gland\n",
      "celltype: pancreatic D cell\n",
      "celltype: dendritic cell\n",
      "celltype: natural killer cell\n",
      "celltype: goblet cell\n",
      "celltype: pulmonary ionocyte\n",
      "celltype: macrophage\n",
      "celltype: respiratory basal cell\n",
      "celltype: striated muscle cell\n",
      "celltype: mucus neck cell of gastric gland\n",
      "celltype: lymphocyte\n",
      "celltype: epithelial cell of lung\n",
      "celltype: antibody secreting cell\n",
      "celltype: pancreatic epsilon cell\n",
      "celltype: mucous cell of stomach\n",
      "celltype: neuron\n",
      "celltype: smooth muscle cell\n",
      "celltype: ciliated columnar cell of tracheobronchial tree\n",
      "celltype: neutrophil\n",
      "***monocytes***\n",
      "***neutrophils***\n",
      "celltype: endothelial cell\n",
      "celltype: fibroblast\n",
      "celltype: T cell\n",
      "celltype: chromaffin cell\n",
      "celltype: peptic cell\n",
      "celltype: peritubular myoid cell\n",
      "celltype: enterocyte\n",
      "celltype: lung secretory cell\n",
      "celltype: unknown\n",
      "celltype: myofibroblast cell\n",
      "celltype: granulocyte\n",
      "celltype: B cell\n",
      "celltype: parietal cell\n",
      "celltype: mast cell\n"
     ]
    }
   ],
   "source": [
    "\n",
    "def buildPM(qci,q,cell_label):\n",
    "    qci = qci[qci.obs.diagnosis.isin(['NE', 'NS', 'M', 'D', 'T'])]\n",
    "    ###\n",
    "    (biosample_list, index, sample_df) = build_design(q, qci)\n",
    "    # building the pseudobulk count matrix\n",
    "    count_matrix = build_count_matrix(biosample_list, index, qci, sample_df)\n",
    "    sample_df.binned_cell_counts = [str(x) for x in sample_df.binned_cell_counts]\n",
    "    #write it out\n",
    "    count_matrix.to_csv('../pseudobulks_celltype_level/'+cell_label+'_pseudobulk.csv')\n",
    "    sample_df.to_csv('../pseudobulks_celltype_level/'+cell_label+'_metadata.csv')    \n",
    "\n",
    "\n",
    "res_df = pd.DataFrame()\n",
    "for cell_label in cellnames: #clusterlabs:\n",
    "    # subset the anndata to this cluster\n",
    "    print('celltype: ' + cell_label)\n",
    "    if cell_label == 'neutrophil':\n",
    "        ### subset data to this cluster\n",
    "        print('***monocytes***')\n",
    "        qci = q[(q.obs.CL_name == cell_label) & (q.obs.leiden == '10')]\n",
    "        buildPM(qci,q,'monocytes')\n",
    "        print('***neutrophils***')\n",
    "        qci = q[(q.obs.CL_name == cell_label) & (q.obs.leiden == '22')]\n",
    "        buildPM(qci,q,'neutrophils')\n",
    "    else:\n",
    "        ### subset data to this cluster\n",
    "        qci = q[q.obs.CL_name == cell_label]\n",
    "        buildPM(qci,q,cell_label)\n",
    "        \n",
    "    del qci\n",
    "    gc.collect()\n"
   ]
  },
  {
   "cell_type": "code",
   "execution_count": null,
   "metadata": {},
   "outputs": [],
   "source": []
  },
  {
   "cell_type": "code",
   "execution_count": null,
   "metadata": {},
   "outputs": [],
   "source": []
  }
 ],
 "metadata": {
  "environment": {
   "name": "r-cpu.4-0.m75",
   "type": "gcloud",
   "uri": "gcr.io/deeplearning-platform-release/r-cpu.4-0:m75"
  },
  "kernelspec": {
   "display_name": "Python 3 (ipykernel)",
   "language": "python",
   "name": "python3"
  },
  "language_info": {
   "codemirror_mode": {
    "name": "ipython",
    "version": 3
   },
   "file_extension": ".py",
   "mimetype": "text/x-python",
   "name": "python",
   "nbconvert_exporter": "python",
   "pygments_lexer": "ipython3",
   "version": "3.10.11"
  }
 },
 "nbformat": 4,
 "nbformat_minor": 4
}
