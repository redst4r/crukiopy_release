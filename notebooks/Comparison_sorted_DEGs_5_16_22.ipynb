{
 "cells": [
  {
   "cell_type": "code",
   "execution_count": 4,
   "metadata": {},
   "outputs": [],
   "source": [
    "import scanpy as sc\n",
    "import pandas as pd\n",
    "import numpy as np\n",
    "\n",
    "import seaborn as sns\n",
    "import matplotlib as plt"
   ]
  },
  {
   "cell_type": "code",
   "execution_count": 5,
   "metadata": {},
   "outputs": [],
   "source": [
    "fc_labels = ['log2FC_NE_NS', 'log2FC_NE_M', \n",
    "             'log2FC_NE_D', 'log2FC_NE_T',\n",
    "             'log2FC_NS_M', 'log2FC_NS_D', \n",
    "             'log2FC_NS_T', 'log2FC_M_D', \n",
    "             'log2FC_M_T', 'log2FC_D_T']"
   ]
  },
  {
   "cell_type": "code",
   "execution_count": 6,
   "metadata": {},
   "outputs": [],
   "source": [
    "degs = pd.read_csv('EsoAtlas_DEGs_filtered_by_score_5_16_22.csv', index_col=0)\n",
    "obs  = pd.read_csv('EsoAtlas_adatas_june2021_final_obs_May15.csv', index_col=0) \n",
    "cnts = pd.read_csv('count_means_by_celltype_and_dx_v4.csv.gz', index_col=0)"
   ]
  },
  {
   "cell_type": "code",
   "execution_count": 7,
   "metadata": {},
   "outputs": [],
   "source": [
    "cells = list(set(degs.celltype))"
   ]
  },
  {
   "cell_type": "code",
   "execution_count": 8,
   "metadata": {},
   "outputs": [
    {
     "data": {
      "text/plain": [
       "['mast_cells',\n",
       " 'monocytes_macs_DCs',\n",
       " 'NK_cells',\n",
       " 'stromal',\n",
       " 'fibroblasts',\n",
       " 'naive_T_cells',\n",
       " 'cd8_Tcells',\n",
       " 'myofibroblasts',\n",
       " 'B_cells',\n",
       " 'endothelial',\n",
       " 'neuroendocrine',\n",
       " 'cd4_Tcells',\n",
       " 'squamous_epithelial',\n",
       " 'gi_epithelial']"
      ]
     },
     "execution_count": 8,
     "metadata": {},
     "output_type": "execute_result"
    }
   ],
   "source": [
    "cells"
   ]
  },
  {
   "cell_type": "code",
   "execution_count": 9,
   "metadata": {},
   "outputs": [],
   "source": [
    "alldf = pd.DataFrame()\n",
    "\n",
    "for comp in fc_labels:\n",
    "    for celli in cells:\n",
    "        cell_degs = degs.loc[degs.celltype == celli]\n",
    "        degs_sorted = cell_degs.sort_values(by=comp, axis=0, ascending=False, inplace=False)\n",
    "\n",
    "        glist_up = degs_sorted.gene[degs_sorted[comp] > 0.58].values\n",
    "        glist_dn = degs_sorted.gene[degs_sorted[comp] < -0.58].values\n",
    "        fc_up = degs_sorted.loc[degs_sorted[comp] > 0.58, comp].values\n",
    "        fc_dn = degs_sorted.loc[degs_sorted[comp] < -0.58, comp].values\n",
    "\n",
    "        g = sns.scatterplot(data=degs_sorted, x=range(0,len(degs_sorted)), y=comp)\n",
    "        g.axhline(0.58, ls='--', linewidth=3, color='red')\n",
    "        g.axhline(-0.58, ls='--', linewidth=3, color='red')\n",
    "        g.set(title=celli+\"_\"+comp)\n",
    "        g.figure.savefig(celli+\"_\"+comp+\".png\")\n",
    "        plt.pyplot.close()\n",
    "        \n",
    "        df_up = pd.DataFrame({\n",
    "            'Cell':[celli for xi in range(0,len(glist_up))],\n",
    "            'Comparison':[comp for xi in range(0,len(glist_up))],\n",
    "            'Direction':[\"up\" for xi in range(0,len(glist_up))],\n",
    "            'Gene':glist_up,\n",
    "            'log2FC':fc_up\n",
    "        })\n",
    "        df_dn = pd.DataFrame({\n",
    "            'Cell':[celli for xi in range(0,len(glist_dn))],\n",
    "            'Comparison':[comp for xi in range(0,len(glist_dn))],\n",
    "            'Direction':[\"down\" for xi in range(0,len(glist_dn))],\n",
    "            'Gene':glist_dn,\n",
    "            'log2FC':fc_dn\n",
    "        })\n",
    "        df = df_up.append(df_dn)\n",
    "        df.to_csv(celli+\"_\"+comp+\".csv\")\n",
    "\n",
    "        alldf = alldf.append(df)\n",
    "\n",
    "alldf.to_csv('EsoAtlas_comparison_sorted_degs_5_16_22.csv')"
   ]
  },
  {
   "cell_type": "code",
   "execution_count": 10,
   "metadata": {},
   "outputs": [
    {
     "data": {
      "text/plain": [
       "Cell           Comparison    Direction\n",
       "gi_epithelial  log2FC_NE_D   down         2481\n",
       "               log2FC_NE_M   down         2461\n",
       "               log2FC_NE_T   down         2336\n",
       "               log2FC_NE_NS  down         2277\n",
       "               log2FC_NS_T   down         2175\n",
       "                                          ... \n",
       "NK_cells       log2FC_NS_T   up              6\n",
       "cd4_Tcells     log2FC_M_D    up              6\n",
       "NK_cells       log2FC_D_T    up              5\n",
       "               log2FC_M_T    up              5\n",
       "               log2FC_NE_T   up              5\n",
       "Length: 280, dtype: int64"
      ]
     },
     "execution_count": 10,
     "metadata": {},
     "output_type": "execute_result"
    }
   ],
   "source": [
    "alldf_table = alldf.loc[:, ['Cell','Comparison','Direction']].value_counts()\n",
    "alldf_table"
   ]
  },
  {
   "cell_type": "code",
   "execution_count": 11,
   "metadata": {},
   "outputs": [
    {
     "data": {
      "text/html": [
       "<div>\n",
       "<style scoped>\n",
       "    .dataframe tbody tr th:only-of-type {\n",
       "        vertical-align: middle;\n",
       "    }\n",
       "\n",
       "    .dataframe tbody tr th {\n",
       "        vertical-align: top;\n",
       "    }\n",
       "\n",
       "    .dataframe thead th {\n",
       "        text-align: right;\n",
       "    }\n",
       "</style>\n",
       "<table border=\"1\" class=\"dataframe\">\n",
       "  <thead>\n",
       "    <tr style=\"text-align: right;\">\n",
       "      <th></th>\n",
       "      <th>Cell</th>\n",
       "      <th>Comparison</th>\n",
       "      <th>Direction</th>\n",
       "      <th>Gene</th>\n",
       "      <th>log2FC</th>\n",
       "    </tr>\n",
       "  </thead>\n",
       "  <tbody>\n",
       "    <tr>\n",
       "      <th>0</th>\n",
       "      <td>mast_cells</td>\n",
       "      <td>log2FC_NE_NS</td>\n",
       "      <td>up</td>\n",
       "      <td>AKAP12</td>\n",
       "      <td>2.748948</td>\n",
       "    </tr>\n",
       "    <tr>\n",
       "      <th>1</th>\n",
       "      <td>mast_cells</td>\n",
       "      <td>log2FC_NE_NS</td>\n",
       "      <td>up</td>\n",
       "      <td>PRKAR2B</td>\n",
       "      <td>2.462319</td>\n",
       "    </tr>\n",
       "    <tr>\n",
       "      <th>2</th>\n",
       "      <td>mast_cells</td>\n",
       "      <td>log2FC_NE_NS</td>\n",
       "      <td>up</td>\n",
       "      <td>RAB33A</td>\n",
       "      <td>2.079008</td>\n",
       "    </tr>\n",
       "    <tr>\n",
       "      <th>3</th>\n",
       "      <td>mast_cells</td>\n",
       "      <td>log2FC_NE_NS</td>\n",
       "      <td>up</td>\n",
       "      <td>ASIC3</td>\n",
       "      <td>2.064015</td>\n",
       "    </tr>\n",
       "    <tr>\n",
       "      <th>4</th>\n",
       "      <td>mast_cells</td>\n",
       "      <td>log2FC_NE_NS</td>\n",
       "      <td>up</td>\n",
       "      <td>AFF2</td>\n",
       "      <td>2.037438</td>\n",
       "    </tr>\n",
       "    <tr>\n",
       "      <th>...</th>\n",
       "      <td>...</td>\n",
       "      <td>...</td>\n",
       "      <td>...</td>\n",
       "      <td>...</td>\n",
       "      <td>...</td>\n",
       "    </tr>\n",
       "    <tr>\n",
       "      <th>616</th>\n",
       "      <td>gi_epithelial</td>\n",
       "      <td>log2FC_D_T</td>\n",
       "      <td>down</td>\n",
       "      <td>MAGEA6</td>\n",
       "      <td>-7.386328</td>\n",
       "    </tr>\n",
       "    <tr>\n",
       "      <th>617</th>\n",
       "      <td>gi_epithelial</td>\n",
       "      <td>log2FC_D_T</td>\n",
       "      <td>down</td>\n",
       "      <td>MAGEA12</td>\n",
       "      <td>-7.996341</td>\n",
       "    </tr>\n",
       "    <tr>\n",
       "      <th>618</th>\n",
       "      <td>gi_epithelial</td>\n",
       "      <td>log2FC_D_T</td>\n",
       "      <td>down</td>\n",
       "      <td>TMEM271</td>\n",
       "      <td>-12.376194</td>\n",
       "    </tr>\n",
       "    <tr>\n",
       "      <th>619</th>\n",
       "      <td>gi_epithelial</td>\n",
       "      <td>log2FC_D_T</td>\n",
       "      <td>down</td>\n",
       "      <td>HSPE1P5</td>\n",
       "      <td>-14.360315</td>\n",
       "    </tr>\n",
       "    <tr>\n",
       "      <th>620</th>\n",
       "      <td>gi_epithelial</td>\n",
       "      <td>log2FC_D_T</td>\n",
       "      <td>down</td>\n",
       "      <td>CARD17</td>\n",
       "      <td>-14.891762</td>\n",
       "    </tr>\n",
       "  </tbody>\n",
       "</table>\n",
       "<p>73045 rows × 5 columns</p>\n",
       "</div>"
      ],
      "text/plain": [
       "              Cell    Comparison Direction     Gene     log2FC\n",
       "0       mast_cells  log2FC_NE_NS        up   AKAP12   2.748948\n",
       "1       mast_cells  log2FC_NE_NS        up  PRKAR2B   2.462319\n",
       "2       mast_cells  log2FC_NE_NS        up   RAB33A   2.079008\n",
       "3       mast_cells  log2FC_NE_NS        up    ASIC3   2.064015\n",
       "4       mast_cells  log2FC_NE_NS        up     AFF2   2.037438\n",
       "..             ...           ...       ...      ...        ...\n",
       "616  gi_epithelial    log2FC_D_T      down   MAGEA6  -7.386328\n",
       "617  gi_epithelial    log2FC_D_T      down  MAGEA12  -7.996341\n",
       "618  gi_epithelial    log2FC_D_T      down  TMEM271 -12.376194\n",
       "619  gi_epithelial    log2FC_D_T      down  HSPE1P5 -14.360315\n",
       "620  gi_epithelial    log2FC_D_T      down   CARD17 -14.891762\n",
       "\n",
       "[73045 rows x 5 columns]"
      ]
     },
     "execution_count": 11,
     "metadata": {},
     "output_type": "execute_result"
    }
   ],
   "source": [
    "alldf"
   ]
  },
  {
   "cell_type": "code",
   "execution_count": null,
   "metadata": {},
   "outputs": [],
   "source": []
  }
 ],
 "metadata": {
  "kernelspec": {
   "display_name": "Python 3 (ipykernel)",
   "language": "python",
   "name": "python3"
  },
  "language_info": {
   "codemirror_mode": {
    "name": "ipython",
    "version": 3
   },
   "file_extension": ".py",
   "mimetype": "text/x-python",
   "name": "python",
   "nbconvert_exporter": "python",
   "pygments_lexer": "ipython3",
   "version": "3.10.11"
  }
 },
 "nbformat": 4,
 "nbformat_minor": 4
}
