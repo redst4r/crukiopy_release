{
 "cells": [
  {
   "cell_type": "code",
   "execution_count": null,
   "metadata": {},
   "outputs": [],
   "source": [
    "#pip install tf-nightly\n",
    "#pip install tfp-nightly"
   ]
  },
  {
   "cell_type": "markdown",
   "metadata": {},
   "source": [
    "Recommendations for single-cell analysis\n",
    "\n",
    "The DESeq2 developers and collaborating groups have published recommendations for the best use of DESeq2 for single-cell datasets, which have been described first in Van den Berge et al. (2018). Default values for DESeq2 were designed for bulk data and will not be appropriate for single-cell datasets. These settings and additional improvements have also been tested subsequently and published in Zhu, Ibrahim, and Love (2018) and Ahlmann-Eltze and Huber (2020).\n",
    "\n",
    "    Use test=\"LRT\" for significance testing when working with single-cell data, over the Wald test. This has been observed across multiple single-cell benchmarks.\n",
    "    Set the following DESeq arguments to these values: useT=TRUE, minmu=1e-6, and minReplicatesForReplace=Inf. The default setting of minmu was benchmarked on bulk RNA-seq and is not appropriate for single cell data when the expected count is often much less than 1.\n",
    "    The default size factors are not optimal for single cell count matrices, instead consider setting sizeFactors from scran::computeSumFactors.\n",
    "    One important concern for single-cell data analysis is the size of the datasets and associated processing time. To address the speed concerns, DESeq2 provides an interface to glmGamPoi, which implements faster dispersion and parameter estimation routines for single-cell data (Ahlmann-Eltze and Huber 2020). To use this feature, set fitType = \"glmGamPoi\". Alternatively, one can use glmGamPoi as a standalone package. This provides the additional option to process data on-disk if the full dataset does not fit in memory, a quasi-likelihood framework for differential testing, and the ability to form pseudobulk samples (more details how to use glmGamPoi are in its README).\n",
    "\n",
    "Optionally, one can consider using the zinbwave package to directly model the zero inflation of the counts, and take account of these in the DESeq2 model. This allows for the DESeq2 inference to apply to the part of the data which is not due to zero inflation. Not all single cell datasets exhibit zero inflation, and instead may just reflect low conditional estimated counts (conditional on cell type or cell state).There is example code for combining zinbwave and DESeq2 package functions in the zinbwave vignette. We also have an example of ZINB-WaVE + DESeq2 integration using the splatter package for simulation at the zinbwave-deseq2 GitHub repository."
   ]
  },
  {
   "cell_type": "markdown",
   "metadata": {},
   "source": [
    "\n",
    "Can I use DESeq2 to analyze paired samples?\n",
    "\n",
    "Yes, you should use a multi-factor design which includes the sample information as a term in the design formula. This will account for differences between the samples while estimating the effect due to the condition. The condition of interest should go at the end of the design formula, e.g. ~ subject + condition.\n",
    "If I have multiple groups, should I run all together or split into pairs of groups?\n",
    "\n",
    "Typically, we recommend users to run samples from all groups together, and then use the contrast argument of the results function to extract comparisons of interest after fitting the model using DESeq.\n",
    "\n",
    "The model fit by DESeq estimates a single dispersion parameter for each gene, which defines how far we expect the observed count for a sample will be from the mean value from the model given its size factor and its condition group. See the section above and the DESeq2 paper for full details. Having a single dispersion parameter for each gene is usually sufficient for analyzing multi-group data, as the final dispersion value will incorporate the within-group variability across all groups.\n",
    "\n",
    "However, for some datasets, exploratory data analysis (EDA) plots could reveal that one or more groups has much higher within-group variability than the others. A simulated example of such a set of samples is shown below. This is case where, by comparing groups A and B separately – subsetting a DESeqDataSet to only samples from those two groups and then running DESeq on this subset – will be more sensitive than a model including all samples together. It should be noted that such an extreme range of within-group variability is not common, although it could arise if certain treatments produce an extreme reaction (e.g. cell death). Again, this can be easily detected from the EDA plots such as PCA described in this vignette.\n",
    "\n",
    "Here we diagram an extreme range of within-group variability with a simulated dataset. Typically, it is recommended to run DESeq across samples from all groups, for datasets with multiple groups. However, this simulated dataset shows a case where it would be preferable to compare groups A and B by creating a smaller dataset without the C samples. Group C has much higher within-group variability, which would inflate the per-gene dispersion estimate for groups A and B as well:"
   ]
  },
  {
   "cell_type": "code",
   "execution_count": null,
   "metadata": {},
   "outputs": [],
   "source": [
    "#%reset"
   ]
  },
  {
   "cell_type": "code",
   "execution_count": 1,
   "metadata": {},
   "outputs": [],
   "source": [
    "import scanpy as sc\n",
    "import seaborn as sns\n",
    "import pandas as pd\n",
    "import numpy as np\n",
    "import anndata\n",
    "import itertools\n",
    "import gc\n",
    "from diffexpr.py_deseq import py_DESeq2\n",
    "from rpy2.robjects import Formula\n",
    "from sklearn.preprocessing import StandardScaler\n",
    "scaler = StandardScaler()"
   ]
  },
  {
   "cell_type": "code",
   "execution_count": 2,
   "metadata": {},
   "outputs": [],
   "source": [
    "q = sc.read_h5ad('../../atlas/Atlas_adatas_June2021_Atlas_final_May2021.h5ad')"
   ]
  },
  {
   "cell_type": "markdown",
   "metadata": {},
   "source": []
  },
  {
   "cell_type": "code",
   "execution_count": 3,
   "metadata": {},
   "outputs": [],
   "source": [
    "def build_design(q, qci):\n",
    "    # build design matrix\n",
    "    patient_ids = ([x[0:3] for x in qci.obs.samplename])\n",
    "    full_sample_df = pd.DataFrame({'patient':patient_ids, 'biosample':qci.obs.samplename, 'procedure':qci.obs.procedure, 'n_molecules':qci.obs.n_molecules, 'dx':qci.obs.diagnosis})\n",
    "        \n",
    "    # get average n_molecules\n",
    "    sample_df_molecules=full_sample_df.groupby('biosample').agg(avg_molecules=pd.NamedAgg(column='n_molecules', aggfunc='mean'))\n",
    "    sample_df_molecules['biosample'] = sample_df_molecules.index\n",
    "    sample_df_molecules.index = range(0,len(sample_df_molecules))\n",
    "    \n",
    "    # get the number of cells from each sample\n",
    "    cell_counts = pd.DataFrame(full_sample_df.biosample.value_counts())\n",
    "    cell_counts.columns = ['cell_counts']\n",
    "    cell_counts['biosample'] = cell_counts.index\n",
    "    \n",
    "    # merge in the cell counts and molecules\n",
    "    full_sample_df = full_sample_df.merge(cell_counts)\n",
    "    full_sample_df.drop('n_molecules', axis=1, inplace=True)\n",
    "    \n",
    "    # the list of biosamples in this cluster\n",
    "    biosample_list = list(set(full_sample_df.biosample))\n",
    "    \n",
    "    # and the order of cells as index\n",
    "    index = np.array(full_sample_df.biosample.tolist())\n",
    "    \n",
    "    # then we make the design matrix\n",
    "    sample_df = full_sample_df.drop_duplicates()\n",
    "    sample_df = sample_df.merge(sample_df_molecules)\n",
    "    sample_df.loc[:,'binned_cell_counts'] = pd.cut(sample_df.cell_counts, bins=[0,8,32,128,512,2048,100000]) #((sample_df.cell_counts - np.mean(sample_df.cell_counts)) / np.std(sample_df.cell_counts))\n",
    "    \n",
    "    return( (biosample_list, index, sample_df) )"
   ]
  },
  {
   "cell_type": "code",
   "execution_count": 4,
   "metadata": {},
   "outputs": [],
   "source": [
    "def build_count_matrix(biosample_list, index, qci, sample_df):\n",
    "    # sum within samples\n",
    "    res0 = pd.DataFrame()\n",
    "    for bsl in biosample_list:\n",
    "        idx = np.argwhere(index == bsl).flatten()\n",
    "        mat = qci.X[idx,:].sum(axis=0)\n",
    "        cnt_sum = mat.flatten().tolist()[0]\n",
    "        if len(res0) == 0:\n",
    "            res0 = pd.DataFrame(cnt_sum, columns=[bsl])\n",
    "        else:\n",
    "            res0 = res0.join(pd.DataFrame(cnt_sum, columns=[bsl]))\n",
    "    count_matrix = res0.loc[:, sample_df.biosample.tolist()]\n",
    "    count_matrix['id'] = qci.var.index.tolist()\n",
    "    count_matrix.index = qci.var.index\n",
    "    return(count_matrix)"
   ]
  },
  {
   "cell_type": "code",
   "execution_count": 5,
   "metadata": {},
   "outputs": [],
   "source": [
    "cellclusters = dict(\n",
    "    gi_epithelial=['0','3','4','6','8','13','19','20','28','31','33','34','35','36','38','39','40'], # 78049 cells, \n",
    "    squamous_epithelial=['16','18','21'],\n",
    "    fibroblasts=['7'],\n",
    "    myofibroblasts=['12'],\n",
    "    endothelial=['15','5', '30', '26'],\n",
    "    neuroendocrine=['17'],\n",
    "    parietal=['29'],\n",
    "    stromal=['7','12','15','5', '30', '26'],\n",
    "    neutrophils=['22'],\n",
    "    monocytes_macs_DCs=['10'],  # and macs and dcs\n",
    "    B_cells=['11','23'],\n",
    "    cd4_Tcells=['2'],\n",
    "    cd8_Tcells=['1','25'],\n",
    "    NK_cells=['14'],\n",
    "    mast_cells=['9'],\n",
    "    hepatoid=['27'],\n",
    "    naive_T_cells=['24']\n",
    "    #gastric=['4','6']   \n",
    ")"
   ]
  },
  {
   "cell_type": "code",
   "execution_count": 6,
   "metadata": {},
   "outputs": [
    {
     "name": "stdout",
     "output_type": "stream",
     "text": [
      "gi_epithelial\n",
      "squamous_epithelial\n",
      "fibroblasts\n",
      "myofibroblasts\n",
      "endothelial\n",
      "neuroendocrine\n",
      "parietal\n",
      "stromal\n",
      "neutrophils\n",
      "monocytes_macs_DCs\n",
      "B_cells\n",
      "cd4_Tcells\n",
      "cd8_Tcells\n",
      "NK_cells\n",
      "mast_cells\n",
      "hepatoid\n",
      "naive_T_cells\n"
     ]
    }
   ],
   "source": [
    "for leiden_label in cellclusters.keys():\n",
    "    print(leiden_label)"
   ]
  },
  {
   "cell_type": "code",
   "execution_count": 10,
   "metadata": {},
   "outputs": [
    {
     "name": "stdout",
     "output_type": "stream",
     "text": [
      "leiden cluster: gi_epithelial\n"
     ]
    },
    {
     "name": "stderr",
     "output_type": "stream",
     "text": [
      "/tmp/ipykernel_675/596024025.py:21: FutureWarning: In a future version of pandas all arguments of DataFrame.drop except for the argument 'labels' will be keyword-only\n",
      "  sample_df.drop(['binned_cell_counts', 'procedure', 'biosample'], 1, inplace=True)\n"
     ]
    },
    {
     "name": "stdout",
     "output_type": "stream",
     "text": [
      " .... running deseq2...\n"
     ]
    },
    {
     "name": "stderr",
     "output_type": "stream",
     "text": [
      "WARNING:rpy2.rinterface_lib.callbacks:R[write to console]: converting counts to integer mode\n",
      "\n",
      "WARNING:rpy2.rinterface_lib.callbacks:R[write to console]: estimating size factors\n",
      "\n",
      "WARNING:rpy2.rinterface_lib.callbacks:R[write to console]: estimating dispersions\n",
      "\n",
      "WARNING:rpy2.rinterface_lib.callbacks:R[write to console]: gene-wise dispersion estimates\n",
      "\n",
      "WARNING:rpy2.rinterface_lib.callbacks:R[write to console]: mean-dispersion relationship\n",
      "\n",
      "WARNING:rpy2.rinterface_lib.callbacks:R[write to console]: final dispersion estimates\n",
      "\n",
      "WARNING:rpy2.rinterface_lib.callbacks:R[write to console]: fitting model and testing\n",
      "\n",
      "WARNING:rpy2.rinterface_lib.callbacks:R[write to console]: 592 rows did not converge in beta, labelled in mcols(object)$fullBetaConv. Use larger maxit argument with nbinomLRT\n",
      "\n",
      "INFO:DESeq2:Using contrast: ['dx', 'M', 'T']\n",
      "INFO:DESeq2:Using contrast: ['dx', 'M', 'NS']\n",
      "INFO:DESeq2:Using contrast: ['dx', 'M', 'NE']\n",
      "INFO:DESeq2:Using contrast: ['dx', 'M', 'D']\n",
      "INFO:DESeq2:Using contrast: ['dx', 'T', 'M']\n",
      "INFO:DESeq2:Using contrast: ['dx', 'T', 'NS']\n",
      "INFO:DESeq2:Using contrast: ['dx', 'T', 'NE']\n",
      "INFO:DESeq2:Using contrast: ['dx', 'T', 'D']\n",
      "INFO:DESeq2:Using contrast: ['dx', 'NS', 'M']\n",
      "INFO:DESeq2:Using contrast: ['dx', 'NS', 'T']\n",
      "INFO:DESeq2:Using contrast: ['dx', 'NS', 'NE']\n",
      "INFO:DESeq2:Using contrast: ['dx', 'NS', 'D']\n",
      "INFO:DESeq2:Using contrast: ['dx', 'NE', 'M']\n",
      "INFO:DESeq2:Using contrast: ['dx', 'NE', 'T']\n",
      "INFO:DESeq2:Using contrast: ['dx', 'NE', 'NS']\n",
      "INFO:DESeq2:Using contrast: ['dx', 'NE', 'D']\n",
      "INFO:DESeq2:Using contrast: ['dx', 'D', 'M']\n",
      "INFO:DESeq2:Using contrast: ['dx', 'D', 'T']\n",
      "INFO:DESeq2:Using contrast: ['dx', 'D', 'NS']\n",
      "INFO:DESeq2:Using contrast: ['dx', 'D', 'NE']\n"
     ]
    },
    {
     "name": "stdout",
     "output_type": "stream",
     "text": [
      "leiden cluster: squamous_epithelial\n"
     ]
    },
    {
     "name": "stderr",
     "output_type": "stream",
     "text": [
      "/tmp/ipykernel_675/596024025.py:21: FutureWarning: In a future version of pandas all arguments of DataFrame.drop except for the argument 'labels' will be keyword-only\n",
      "  sample_df.drop(['binned_cell_counts', 'procedure', 'biosample'], 1, inplace=True)\n"
     ]
    },
    {
     "name": "stdout",
     "output_type": "stream",
     "text": [
      " .... running deseq2...\n"
     ]
    },
    {
     "name": "stderr",
     "output_type": "stream",
     "text": [
      "WARNING:rpy2.rinterface_lib.callbacks:R[write to console]: converting counts to integer mode\n",
      "\n",
      "WARNING:rpy2.rinterface_lib.callbacks:R[write to console]: estimating size factors\n",
      "\n",
      "WARNING:rpy2.rinterface_lib.callbacks:R[write to console]: estimating dispersions\n",
      "\n",
      "WARNING:rpy2.rinterface_lib.callbacks:R[write to console]: gene-wise dispersion estimates\n",
      "\n",
      "WARNING:rpy2.rinterface_lib.callbacks:R[write to console]: mean-dispersion relationship\n",
      "\n",
      "WARNING:rpy2.rinterface_lib.callbacks:R[write to console]: -- note: fitType='parametric', but the dispersion trend was not well captured by the\n",
      "   function: y = a/x + b, and a local regression fit was automatically substituted.\n",
      "   specify fitType='local' or 'mean' to avoid this message next time.\n",
      "\n",
      "WARNING:rpy2.rinterface_lib.callbacks:R[write to console]: final dispersion estimates\n",
      "\n",
      "WARNING:rpy2.rinterface_lib.callbacks:R[write to console]: fitting model and testing\n",
      "\n",
      "WARNING:rpy2.rinterface_lib.callbacks:R[write to console]: 618 rows did not converge in beta, labelled in mcols(object)$fullBetaConv. Use larger maxit argument with nbinomLRT\n",
      "\n",
      "INFO:DESeq2:Using contrast: ['dx', 'M', 'T']\n",
      "INFO:DESeq2:Using contrast: ['dx', 'M', 'NS']\n",
      "INFO:DESeq2:Using contrast: ['dx', 'M', 'NE']\n",
      "INFO:DESeq2:Using contrast: ['dx', 'M', 'D']\n",
      "INFO:DESeq2:Using contrast: ['dx', 'T', 'M']\n",
      "INFO:DESeq2:Using contrast: ['dx', 'T', 'NS']\n",
      "INFO:DESeq2:Using contrast: ['dx', 'T', 'NE']\n",
      "INFO:DESeq2:Using contrast: ['dx', 'T', 'D']\n",
      "INFO:DESeq2:Using contrast: ['dx', 'NS', 'M']\n",
      "INFO:DESeq2:Using contrast: ['dx', 'NS', 'T']\n",
      "INFO:DESeq2:Using contrast: ['dx', 'NS', 'NE']\n",
      "INFO:DESeq2:Using contrast: ['dx', 'NS', 'D']\n",
      "INFO:DESeq2:Using contrast: ['dx', 'NE', 'M']\n",
      "INFO:DESeq2:Using contrast: ['dx', 'NE', 'T']\n",
      "INFO:DESeq2:Using contrast: ['dx', 'NE', 'NS']\n",
      "INFO:DESeq2:Using contrast: ['dx', 'NE', 'D']\n",
      "INFO:DESeq2:Using contrast: ['dx', 'D', 'M']\n",
      "INFO:DESeq2:Using contrast: ['dx', 'D', 'T']\n",
      "INFO:DESeq2:Using contrast: ['dx', 'D', 'NS']\n",
      "INFO:DESeq2:Using contrast: ['dx', 'D', 'NE']\n"
     ]
    },
    {
     "name": "stdout",
     "output_type": "stream",
     "text": [
      "leiden cluster: fibroblasts\n"
     ]
    },
    {
     "name": "stderr",
     "output_type": "stream",
     "text": [
      "/tmp/ipykernel_675/596024025.py:21: FutureWarning: In a future version of pandas all arguments of DataFrame.drop except for the argument 'labels' will be keyword-only\n",
      "  sample_df.drop(['binned_cell_counts', 'procedure', 'biosample'], 1, inplace=True)\n"
     ]
    },
    {
     "name": "stdout",
     "output_type": "stream",
     "text": [
      " .... running deseq2...\n"
     ]
    },
    {
     "name": "stderr",
     "output_type": "stream",
     "text": [
      "WARNING:rpy2.rinterface_lib.callbacks:R[write to console]: converting counts to integer mode\n",
      "\n",
      "WARNING:rpy2.rinterface_lib.callbacks:R[write to console]: estimating size factors\n",
      "\n",
      "WARNING:rpy2.rinterface_lib.callbacks:R[write to console]: estimating dispersions\n",
      "\n",
      "WARNING:rpy2.rinterface_lib.callbacks:R[write to console]: gene-wise dispersion estimates\n",
      "\n",
      "WARNING:rpy2.rinterface_lib.callbacks:R[write to console]: mean-dispersion relationship\n",
      "\n",
      "WARNING:rpy2.rinterface_lib.callbacks:R[write to console]: -- note: fitType='parametric', but the dispersion trend was not well captured by the\n",
      "   function: y = a/x + b, and a local regression fit was automatically substituted.\n",
      "   specify fitType='local' or 'mean' to avoid this message next time.\n",
      "\n",
      "WARNING:rpy2.rinterface_lib.callbacks:R[write to console]: final dispersion estimates\n",
      "\n",
      "WARNING:rpy2.rinterface_lib.callbacks:R[write to console]: fitting model and testing\n",
      "\n",
      "WARNING:rpy2.rinterface_lib.callbacks:R[write to console]: 493 rows did not converge in beta, labelled in mcols(object)$fullBetaConv. Use larger maxit argument with nbinomLRT\n",
      "\n",
      "INFO:DESeq2:Using contrast: ['dx', 'M', 'T']\n",
      "INFO:DESeq2:Using contrast: ['dx', 'M', 'NS']\n",
      "INFO:DESeq2:Using contrast: ['dx', 'M', 'NE']\n",
      "INFO:DESeq2:Using contrast: ['dx', 'M', 'D']\n",
      "INFO:DESeq2:Using contrast: ['dx', 'T', 'M']\n",
      "INFO:DESeq2:Using contrast: ['dx', 'T', 'NS']\n",
      "INFO:DESeq2:Using contrast: ['dx', 'T', 'NE']\n",
      "INFO:DESeq2:Using contrast: ['dx', 'T', 'D']\n",
      "INFO:DESeq2:Using contrast: ['dx', 'NS', 'M']\n",
      "INFO:DESeq2:Using contrast: ['dx', 'NS', 'T']\n",
      "INFO:DESeq2:Using contrast: ['dx', 'NS', 'NE']\n",
      "INFO:DESeq2:Using contrast: ['dx', 'NS', 'D']\n",
      "INFO:DESeq2:Using contrast: ['dx', 'NE', 'M']\n",
      "INFO:DESeq2:Using contrast: ['dx', 'NE', 'T']\n",
      "INFO:DESeq2:Using contrast: ['dx', 'NE', 'NS']\n",
      "INFO:DESeq2:Using contrast: ['dx', 'NE', 'D']\n",
      "INFO:DESeq2:Using contrast: ['dx', 'D', 'M']\n",
      "INFO:DESeq2:Using contrast: ['dx', 'D', 'T']\n",
      "INFO:DESeq2:Using contrast: ['dx', 'D', 'NS']\n",
      "INFO:DESeq2:Using contrast: ['dx', 'D', 'NE']\n"
     ]
    },
    {
     "name": "stdout",
     "output_type": "stream",
     "text": [
      "leiden cluster: myofibroblasts\n"
     ]
    },
    {
     "name": "stderr",
     "output_type": "stream",
     "text": [
      "/tmp/ipykernel_675/596024025.py:21: FutureWarning: In a future version of pandas all arguments of DataFrame.drop except for the argument 'labels' will be keyword-only\n",
      "  sample_df.drop(['binned_cell_counts', 'procedure', 'biosample'], 1, inplace=True)\n"
     ]
    },
    {
     "name": "stdout",
     "output_type": "stream",
     "text": [
      " .... running deseq2...\n"
     ]
    },
    {
     "name": "stderr",
     "output_type": "stream",
     "text": [
      "WARNING:rpy2.rinterface_lib.callbacks:R[write to console]: converting counts to integer mode\n",
      "\n",
      "WARNING:rpy2.rinterface_lib.callbacks:R[write to console]: estimating size factors\n",
      "\n",
      "WARNING:rpy2.rinterface_lib.callbacks:R[write to console]: estimating dispersions\n",
      "\n",
      "WARNING:rpy2.rinterface_lib.callbacks:R[write to console]: gene-wise dispersion estimates\n",
      "\n",
      "WARNING:rpy2.rinterface_lib.callbacks:R[write to console]: mean-dispersion relationship\n",
      "\n",
      "WARNING:rpy2.rinterface_lib.callbacks:R[write to console]: -- note: fitType='parametric', but the dispersion trend was not well captured by the\n",
      "   function: y = a/x + b, and a local regression fit was automatically substituted.\n",
      "   specify fitType='local' or 'mean' to avoid this message next time.\n",
      "\n",
      "WARNING:rpy2.rinterface_lib.callbacks:R[write to console]: final dispersion estimates\n",
      "\n",
      "WARNING:rpy2.rinterface_lib.callbacks:R[write to console]: fitting model and testing\n",
      "\n",
      "WARNING:rpy2.rinterface_lib.callbacks:R[write to console]: 535 rows did not converge in beta, labelled in mcols(object)$fullBetaConv. Use larger maxit argument with nbinomLRT\n",
      "\n",
      "INFO:DESeq2:Using contrast: ['dx', 'M', 'T']\n",
      "INFO:DESeq2:Using contrast: ['dx', 'M', 'NS']\n",
      "INFO:DESeq2:Using contrast: ['dx', 'M', 'NE']\n",
      "INFO:DESeq2:Using contrast: ['dx', 'M', 'D']\n",
      "INFO:DESeq2:Using contrast: ['dx', 'T', 'M']\n",
      "INFO:DESeq2:Using contrast: ['dx', 'T', 'NS']\n",
      "INFO:DESeq2:Using contrast: ['dx', 'T', 'NE']\n",
      "INFO:DESeq2:Using contrast: ['dx', 'T', 'D']\n",
      "INFO:DESeq2:Using contrast: ['dx', 'NS', 'M']\n",
      "INFO:DESeq2:Using contrast: ['dx', 'NS', 'T']\n",
      "INFO:DESeq2:Using contrast: ['dx', 'NS', 'NE']\n",
      "INFO:DESeq2:Using contrast: ['dx', 'NS', 'D']\n",
      "INFO:DESeq2:Using contrast: ['dx', 'NE', 'M']\n",
      "INFO:DESeq2:Using contrast: ['dx', 'NE', 'T']\n",
      "INFO:DESeq2:Using contrast: ['dx', 'NE', 'NS']\n",
      "INFO:DESeq2:Using contrast: ['dx', 'NE', 'D']\n",
      "INFO:DESeq2:Using contrast: ['dx', 'D', 'M']\n",
      "INFO:DESeq2:Using contrast: ['dx', 'D', 'T']\n",
      "INFO:DESeq2:Using contrast: ['dx', 'D', 'NS']\n",
      "INFO:DESeq2:Using contrast: ['dx', 'D', 'NE']\n"
     ]
    },
    {
     "name": "stdout",
     "output_type": "stream",
     "text": [
      "leiden cluster: endothelial\n"
     ]
    },
    {
     "name": "stderr",
     "output_type": "stream",
     "text": [
      "/tmp/ipykernel_675/596024025.py:21: FutureWarning: In a future version of pandas all arguments of DataFrame.drop except for the argument 'labels' will be keyword-only\n",
      "  sample_df.drop(['binned_cell_counts', 'procedure', 'biosample'], 1, inplace=True)\n"
     ]
    },
    {
     "name": "stdout",
     "output_type": "stream",
     "text": [
      " .... running deseq2...\n"
     ]
    },
    {
     "name": "stderr",
     "output_type": "stream",
     "text": [
      "WARNING:rpy2.rinterface_lib.callbacks:R[write to console]: converting counts to integer mode\n",
      "\n",
      "WARNING:rpy2.rinterface_lib.callbacks:R[write to console]: estimating size factors\n",
      "\n",
      "WARNING:rpy2.rinterface_lib.callbacks:R[write to console]: estimating dispersions\n",
      "\n",
      "WARNING:rpy2.rinterface_lib.callbacks:R[write to console]: gene-wise dispersion estimates\n",
      "\n",
      "WARNING:rpy2.rinterface_lib.callbacks:R[write to console]: mean-dispersion relationship\n",
      "\n",
      "WARNING:rpy2.rinterface_lib.callbacks:R[write to console]: -- note: fitType='parametric', but the dispersion trend was not well captured by the\n",
      "   function: y = a/x + b, and a local regression fit was automatically substituted.\n",
      "   specify fitType='local' or 'mean' to avoid this message next time.\n",
      "\n",
      "WARNING:rpy2.rinterface_lib.callbacks:R[write to console]: final dispersion estimates\n",
      "\n",
      "WARNING:rpy2.rinterface_lib.callbacks:R[write to console]: fitting model and testing\n",
      "\n",
      "WARNING:rpy2.rinterface_lib.callbacks:R[write to console]: 568 rows did not converge in beta, labelled in mcols(object)$fullBetaConv. Use larger maxit argument with nbinomLRT\n",
      "\n",
      "INFO:DESeq2:Using contrast: ['dx', 'M', 'T']\n",
      "INFO:DESeq2:Using contrast: ['dx', 'M', 'NS']\n",
      "INFO:DESeq2:Using contrast: ['dx', 'M', 'NE']\n",
      "INFO:DESeq2:Using contrast: ['dx', 'M', 'D']\n",
      "INFO:DESeq2:Using contrast: ['dx', 'T', 'M']\n",
      "INFO:DESeq2:Using contrast: ['dx', 'T', 'NS']\n",
      "INFO:DESeq2:Using contrast: ['dx', 'T', 'NE']\n",
      "INFO:DESeq2:Using contrast: ['dx', 'T', 'D']\n",
      "INFO:DESeq2:Using contrast: ['dx', 'NS', 'M']\n",
      "INFO:DESeq2:Using contrast: ['dx', 'NS', 'T']\n",
      "INFO:DESeq2:Using contrast: ['dx', 'NS', 'NE']\n",
      "INFO:DESeq2:Using contrast: ['dx', 'NS', 'D']\n",
      "INFO:DESeq2:Using contrast: ['dx', 'NE', 'M']\n",
      "INFO:DESeq2:Using contrast: ['dx', 'NE', 'T']\n",
      "INFO:DESeq2:Using contrast: ['dx', 'NE', 'NS']\n",
      "INFO:DESeq2:Using contrast: ['dx', 'NE', 'D']\n",
      "INFO:DESeq2:Using contrast: ['dx', 'D', 'M']\n",
      "INFO:DESeq2:Using contrast: ['dx', 'D', 'T']\n",
      "INFO:DESeq2:Using contrast: ['dx', 'D', 'NS']\n",
      "INFO:DESeq2:Using contrast: ['dx', 'D', 'NE']\n"
     ]
    },
    {
     "name": "stdout",
     "output_type": "stream",
     "text": [
      "leiden cluster: neuroendocrine\n"
     ]
    },
    {
     "name": "stderr",
     "output_type": "stream",
     "text": [
      "/tmp/ipykernel_675/596024025.py:21: FutureWarning: In a future version of pandas all arguments of DataFrame.drop except for the argument 'labels' will be keyword-only\n",
      "  sample_df.drop(['binned_cell_counts', 'procedure', 'biosample'], 1, inplace=True)\n"
     ]
    },
    {
     "name": "stdout",
     "output_type": "stream",
     "text": [
      " .... running deseq2...\n"
     ]
    },
    {
     "name": "stderr",
     "output_type": "stream",
     "text": [
      "WARNING:rpy2.rinterface_lib.callbacks:R[write to console]: converting counts to integer mode\n",
      "\n",
      "WARNING:rpy2.rinterface_lib.callbacks:R[write to console]: estimating size factors\n",
      "\n",
      "WARNING:rpy2.rinterface_lib.callbacks:R[write to console]: estimating dispersions\n",
      "\n",
      "WARNING:rpy2.rinterface_lib.callbacks:R[write to console]: gene-wise dispersion estimates\n",
      "\n",
      "WARNING:rpy2.rinterface_lib.callbacks:R[write to console]: mean-dispersion relationship\n",
      "\n",
      "WARNING:rpy2.rinterface_lib.callbacks:R[write to console]: -- note: fitType='parametric', but the dispersion trend was not well captured by the\n",
      "   function: y = a/x + b, and a local regression fit was automatically substituted.\n",
      "   specify fitType='local' or 'mean' to avoid this message next time.\n",
      "\n",
      "WARNING:rpy2.rinterface_lib.callbacks:R[write to console]: final dispersion estimates\n",
      "\n",
      "WARNING:rpy2.rinterface_lib.callbacks:R[write to console]: fitting model and testing\n",
      "\n",
      "WARNING:rpy2.rinterface_lib.callbacks:R[write to console]: 552 rows did not converge in beta, labelled in mcols(object)$fullBetaConv. Use larger maxit argument with nbinomLRT\n",
      "\n",
      "INFO:DESeq2:Using contrast: ['dx', 'M', 'T']\n",
      "INFO:DESeq2:Using contrast: ['dx', 'M', 'NS']\n",
      "INFO:DESeq2:Using contrast: ['dx', 'M', 'NE']\n",
      "INFO:DESeq2:Using contrast: ['dx', 'M', 'D']\n",
      "INFO:DESeq2:Using contrast: ['dx', 'T', 'M']\n",
      "INFO:DESeq2:Using contrast: ['dx', 'T', 'NS']\n",
      "INFO:DESeq2:Using contrast: ['dx', 'T', 'NE']\n",
      "INFO:DESeq2:Using contrast: ['dx', 'T', 'D']\n",
      "INFO:DESeq2:Using contrast: ['dx', 'NS', 'M']\n",
      "INFO:DESeq2:Using contrast: ['dx', 'NS', 'T']\n",
      "INFO:DESeq2:Using contrast: ['dx', 'NS', 'NE']\n",
      "INFO:DESeq2:Using contrast: ['dx', 'NS', 'D']\n",
      "INFO:DESeq2:Using contrast: ['dx', 'NE', 'M']\n",
      "INFO:DESeq2:Using contrast: ['dx', 'NE', 'T']\n",
      "INFO:DESeq2:Using contrast: ['dx', 'NE', 'NS']\n",
      "INFO:DESeq2:Using contrast: ['dx', 'NE', 'D']\n",
      "INFO:DESeq2:Using contrast: ['dx', 'D', 'M']\n",
      "INFO:DESeq2:Using contrast: ['dx', 'D', 'T']\n",
      "INFO:DESeq2:Using contrast: ['dx', 'D', 'NS']\n",
      "INFO:DESeq2:Using contrast: ['dx', 'D', 'NE']\n"
     ]
    },
    {
     "name": "stdout",
     "output_type": "stream",
     "text": [
      "leiden cluster: parietal\n",
      " .... running deseq2...\n"
     ]
    },
    {
     "name": "stderr",
     "output_type": "stream",
     "text": [
      "/tmp/ipykernel_675/596024025.py:21: FutureWarning: In a future version of pandas all arguments of DataFrame.drop except for the argument 'labels' will be keyword-only\n",
      "  sample_df.drop(['binned_cell_counts', 'procedure', 'biosample'], 1, inplace=True)\n",
      "WARNING:rpy2.rinterface_lib.callbacks:R[write to console]: converting counts to integer mode\n",
      "\n",
      "WARNING:rpy2.rinterface_lib.callbacks:R[write to console]: Error in checkFullRank(modelMatrix) : \n",
      "  the model matrix is not full rank, so the model cannot be fit as specified.\n",
      "  One or more variables or interaction terms in the design formula are linear\n",
      "  combinations of the others and must be removed.\n",
      "\n",
      "  Please read the vignette section 'Model matrix not full rank':\n",
      "\n",
      "  vignette('DESeq2')\n",
      "\n",
      "WARNING:rpy2.rinterface_lib.callbacks:R[write to console]: In addition: \n",
      "WARNING:rpy2.rinterface_lib.callbacks:R[write to console]: Warning messages:\n",
      "\n",
      "WARNING:rpy2.rinterface_lib.callbacks:R[write to console]: 1: \n",
      "WARNING:rpy2.rinterface_lib.callbacks:R[write to console]: In (function (package, help, pos = 2, lib.loc = NULL, character.only = FALSE,  :\n",
      "WARNING:rpy2.rinterface_lib.callbacks:R[write to console]: \n",
      " \n",
      "WARNING:rpy2.rinterface_lib.callbacks:R[write to console]:  libraries ‘/usr/local/lib/R/site-library’, ‘/usr/lib/R/site-library’ contain no packages\n",
      "\n",
      "WARNING:rpy2.rinterface_lib.callbacks:R[write to console]: 2: \n",
      "WARNING:rpy2.rinterface_lib.callbacks:R[write to console]: In DESeqDataSet(se, design = design, ignoreRank) :\n",
      "WARNING:rpy2.rinterface_lib.callbacks:R[write to console]: \n",
      " \n",
      "WARNING:rpy2.rinterface_lib.callbacks:R[write to console]:  some variables in design formula are characters, converting to factors\n",
      "\n",
      "WARNING:rpy2.rinterface_lib.callbacks:R[write to console]: 3: \n",
      "WARNING:rpy2.rinterface_lib.callbacks:R[write to console]: In DESeqDataSet(se, design = design, ignoreRank) :\n",
      "WARNING:rpy2.rinterface_lib.callbacks:R[write to console]: \n",
      " \n",
      "WARNING:rpy2.rinterface_lib.callbacks:R[write to console]:  some variables in design formula are characters, converting to factors\n",
      "\n",
      "WARNING:rpy2.rinterface_lib.callbacks:R[write to console]: 4: \n",
      "WARNING:rpy2.rinterface_lib.callbacks:R[write to console]: In DESeqDataSet(se, design = design, ignoreRank) :\n",
      "WARNING:rpy2.rinterface_lib.callbacks:R[write to console]: \n",
      " \n",
      "WARNING:rpy2.rinterface_lib.callbacks:R[write to console]:  some variables in design formula are characters, converting to factors\n",
      "\n",
      "WARNING:rpy2.rinterface_lib.callbacks:R[write to console]: 5: \n",
      "WARNING:rpy2.rinterface_lib.callbacks:R[write to console]: In DESeqDataSet(se, design = design, ignoreRank) :\n",
      "WARNING:rpy2.rinterface_lib.callbacks:R[write to console]: \n",
      " \n",
      "WARNING:rpy2.rinterface_lib.callbacks:R[write to console]:  some variables in design formula are characters, converting to factors\n",
      "\n",
      "WARNING:rpy2.rinterface_lib.callbacks:R[write to console]: 6: \n",
      "WARNING:rpy2.rinterface_lib.callbacks:R[write to console]: In DESeqDataSet(se, design = design, ignoreRank) :\n",
      "WARNING:rpy2.rinterface_lib.callbacks:R[write to console]: \n",
      " \n",
      "WARNING:rpy2.rinterface_lib.callbacks:R[write to console]:  some variables in design formula are characters, converting to factors\n",
      "\n",
      "WARNING:rpy2.rinterface_lib.callbacks:R[write to console]: 7: \n",
      "WARNING:rpy2.rinterface_lib.callbacks:R[write to console]: In DESeqDataSet(se, design = design, ignoreRank) :\n",
      "WARNING:rpy2.rinterface_lib.callbacks:R[write to console]: \n",
      " \n",
      "WARNING:rpy2.rinterface_lib.callbacks:R[write to console]:  some variables in design formula are characters, converting to factors\n",
      "\n",
      "WARNING:rpy2.rinterface_lib.callbacks:R[write to console]: 8: \n",
      "WARNING:rpy2.rinterface_lib.callbacks:R[write to console]: In DESeqDataSet(se, design = design, ignoreRank) :\n",
      "WARNING:rpy2.rinterface_lib.callbacks:R[write to console]: \n",
      " \n",
      "WARNING:rpy2.rinterface_lib.callbacks:R[write to console]:  some variables in design formula are characters, converting to factors\n",
      "\n",
      "WARNING:rpy2.rinterface_lib.callbacks:R[write to console]: 9: \n",
      "WARNING:rpy2.rinterface_lib.callbacks:R[write to console]: In DESeqDataSet(se, design = design, ignoreRank) :\n",
      "WARNING:rpy2.rinterface_lib.callbacks:R[write to console]: \n",
      " \n",
      "WARNING:rpy2.rinterface_lib.callbacks:R[write to console]:  some variables in design formula are characters, converting to factors\n",
      "\n"
     ]
    },
    {
     "name": "stdout",
     "output_type": "stream",
     "text": [
      "error: parietal\n",
      "View of AnnData object with n_obs × n_vars = 385 × 35606\n",
      "    obs: 'samplename', 'n_genes', 'n_molecules', 'doublet_score', 'percent_mito', 'leiden', 'louvain', 'diagnosis', 'phase', 'sample_diagnosis', 'patient', 'treatment', 'procedure', 'hcl_refined', 'hcl_celltype', 'hcl_score', 'CLid', 'CL_name', 'nobatch_leiden', 'nobatch_louvain', 'cnv_avg', 'has_cnv'\n",
      "    var: 'gene_ids', 'feature_types', 'genome', 'is_mito', 'is_ribo'\n",
      "    uns: 'leiden', 'leiden_colors', 'leiden_sizes', 'log_X', 'log_raw.X', 'louvain', 'neighbors', 'nobatch', 'nobatch_leiden_colors', 'nobatch_leiden_sizes', 'nobatch_rank_genes_groups', 'nobatch_rank_genes_groups_filtered', 'nobatch_rank_genes_groups_unfiltered', 'paga', 'pca', 'rank_genes_groups', 'rank_genes_groups_filtered', 'rank_genes_groups_unfiltered', 'umap'\n",
      "    obsm: 'X_pca', 'X_pca_original', 'X_umap', 'X_umap_nobatch'\n",
      "    obsp: 'connectivities', 'distances', 'nobatch_connectivities', 'nobatch_distances'\n",
      "\n",
      "leiden cluster: stromal\n"
     ]
    },
    {
     "name": "stderr",
     "output_type": "stream",
     "text": [
      "/tmp/ipykernel_675/596024025.py:21: FutureWarning: In a future version of pandas all arguments of DataFrame.drop except for the argument 'labels' will be keyword-only\n",
      "  sample_df.drop(['binned_cell_counts', 'procedure', 'biosample'], 1, inplace=True)\n"
     ]
    },
    {
     "name": "stdout",
     "output_type": "stream",
     "text": [
      " .... running deseq2...\n"
     ]
    },
    {
     "name": "stderr",
     "output_type": "stream",
     "text": [
      "WARNING:rpy2.rinterface_lib.callbacks:R[write to console]: converting counts to integer mode\n",
      "\n",
      "WARNING:rpy2.rinterface_lib.callbacks:R[write to console]: estimating size factors\n",
      "\n",
      "WARNING:rpy2.rinterface_lib.callbacks:R[write to console]: estimating dispersions\n",
      "\n",
      "WARNING:rpy2.rinterface_lib.callbacks:R[write to console]: gene-wise dispersion estimates\n",
      "\n",
      "WARNING:rpy2.rinterface_lib.callbacks:R[write to console]: mean-dispersion relationship\n",
      "\n",
      "WARNING:rpy2.rinterface_lib.callbacks:R[write to console]: final dispersion estimates\n",
      "\n",
      "WARNING:rpy2.rinterface_lib.callbacks:R[write to console]: fitting model and testing\n",
      "\n",
      "WARNING:rpy2.rinterface_lib.callbacks:R[write to console]: 598 rows did not converge in beta, labelled in mcols(object)$fullBetaConv. Use larger maxit argument with nbinomLRT\n",
      "\n",
      "INFO:DESeq2:Using contrast: ['dx', 'M', 'T']\n",
      "INFO:DESeq2:Using contrast: ['dx', 'M', 'NS']\n",
      "INFO:DESeq2:Using contrast: ['dx', 'M', 'NE']\n",
      "INFO:DESeq2:Using contrast: ['dx', 'M', 'D']\n",
      "INFO:DESeq2:Using contrast: ['dx', 'T', 'M']\n",
      "INFO:DESeq2:Using contrast: ['dx', 'T', 'NS']\n",
      "INFO:DESeq2:Using contrast: ['dx', 'T', 'NE']\n",
      "INFO:DESeq2:Using contrast: ['dx', 'T', 'D']\n",
      "INFO:DESeq2:Using contrast: ['dx', 'NS', 'M']\n",
      "INFO:DESeq2:Using contrast: ['dx', 'NS', 'T']\n",
      "INFO:DESeq2:Using contrast: ['dx', 'NS', 'NE']\n",
      "INFO:DESeq2:Using contrast: ['dx', 'NS', 'D']\n",
      "INFO:DESeq2:Using contrast: ['dx', 'NE', 'M']\n",
      "INFO:DESeq2:Using contrast: ['dx', 'NE', 'T']\n",
      "INFO:DESeq2:Using contrast: ['dx', 'NE', 'NS']\n",
      "INFO:DESeq2:Using contrast: ['dx', 'NE', 'D']\n",
      "INFO:DESeq2:Using contrast: ['dx', 'D', 'M']\n",
      "INFO:DESeq2:Using contrast: ['dx', 'D', 'T']\n",
      "INFO:DESeq2:Using contrast: ['dx', 'D', 'NS']\n",
      "INFO:DESeq2:Using contrast: ['dx', 'D', 'NE']\n"
     ]
    },
    {
     "name": "stdout",
     "output_type": "stream",
     "text": [
      "leiden cluster: neutrophils\n"
     ]
    },
    {
     "name": "stderr",
     "output_type": "stream",
     "text": [
      "/tmp/ipykernel_675/596024025.py:21: FutureWarning: In a future version of pandas all arguments of DataFrame.drop except for the argument 'labels' will be keyword-only\n",
      "  sample_df.drop(['binned_cell_counts', 'procedure', 'biosample'], 1, inplace=True)\n"
     ]
    },
    {
     "name": "stdout",
     "output_type": "stream",
     "text": [
      " .... running deseq2...\n"
     ]
    },
    {
     "name": "stderr",
     "output_type": "stream",
     "text": [
      "WARNING:rpy2.rinterface_lib.callbacks:R[write to console]: converting counts to integer mode\n",
      "\n",
      "WARNING:rpy2.rinterface_lib.callbacks:R[write to console]: estimating size factors\n",
      "\n",
      "WARNING:rpy2.rinterface_lib.callbacks:R[write to console]: estimating dispersions\n",
      "\n",
      "WARNING:rpy2.rinterface_lib.callbacks:R[write to console]: gene-wise dispersion estimates\n",
      "\n",
      "WARNING:rpy2.rinterface_lib.callbacks:R[write to console]: mean-dispersion relationship\n",
      "\n",
      "WARNING:rpy2.rinterface_lib.callbacks:R[write to console]: -- note: fitType='parametric', but the dispersion trend was not well captured by the\n",
      "   function: y = a/x + b, and a local regression fit was automatically substituted.\n",
      "   specify fitType='local' or 'mean' to avoid this message next time.\n",
      "\n",
      "WARNING:rpy2.rinterface_lib.callbacks:R[write to console]: final dispersion estimates\n",
      "\n",
      "WARNING:rpy2.rinterface_lib.callbacks:R[write to console]: fitting model and testing\n",
      "\n",
      "WARNING:rpy2.rinterface_lib.callbacks:R[write to console]: 499 rows did not converge in beta, labelled in mcols(object)$fullBetaConv. Use larger maxit argument with nbinomLRT\n",
      "\n",
      "INFO:DESeq2:Using contrast: ['dx', 'M', 'T']\n",
      "INFO:DESeq2:Using contrast: ['dx', 'M', 'NS']\n",
      "INFO:DESeq2:Using contrast: ['dx', 'M', 'NE']\n",
      "INFO:DESeq2:Using contrast: ['dx', 'M', 'D']\n",
      "INFO:DESeq2:Using contrast: ['dx', 'T', 'M']\n",
      "INFO:DESeq2:Using contrast: ['dx', 'T', 'NS']\n",
      "INFO:DESeq2:Using contrast: ['dx', 'T', 'NE']\n",
      "INFO:DESeq2:Using contrast: ['dx', 'T', 'D']\n",
      "INFO:DESeq2:Using contrast: ['dx', 'NS', 'M']\n",
      "INFO:DESeq2:Using contrast: ['dx', 'NS', 'T']\n",
      "INFO:DESeq2:Using contrast: ['dx', 'NS', 'NE']\n",
      "INFO:DESeq2:Using contrast: ['dx', 'NS', 'D']\n",
      "INFO:DESeq2:Using contrast: ['dx', 'NE', 'M']\n",
      "INFO:DESeq2:Using contrast: ['dx', 'NE', 'T']\n",
      "INFO:DESeq2:Using contrast: ['dx', 'NE', 'NS']\n",
      "INFO:DESeq2:Using contrast: ['dx', 'NE', 'D']\n",
      "INFO:DESeq2:Using contrast: ['dx', 'D', 'M']\n",
      "INFO:DESeq2:Using contrast: ['dx', 'D', 'T']\n",
      "INFO:DESeq2:Using contrast: ['dx', 'D', 'NS']\n",
      "INFO:DESeq2:Using contrast: ['dx', 'D', 'NE']\n"
     ]
    },
    {
     "name": "stdout",
     "output_type": "stream",
     "text": [
      "leiden cluster: monocytes_macs_DCs\n"
     ]
    },
    {
     "name": "stderr",
     "output_type": "stream",
     "text": [
      "/tmp/ipykernel_675/596024025.py:21: FutureWarning: In a future version of pandas all arguments of DataFrame.drop except for the argument 'labels' will be keyword-only\n",
      "  sample_df.drop(['binned_cell_counts', 'procedure', 'biosample'], 1, inplace=True)\n"
     ]
    },
    {
     "name": "stdout",
     "output_type": "stream",
     "text": [
      " .... running deseq2...\n"
     ]
    },
    {
     "name": "stderr",
     "output_type": "stream",
     "text": [
      "WARNING:rpy2.rinterface_lib.callbacks:R[write to console]: converting counts to integer mode\n",
      "\n",
      "WARNING:rpy2.rinterface_lib.callbacks:R[write to console]: estimating size factors\n",
      "\n",
      "WARNING:rpy2.rinterface_lib.callbacks:R[write to console]: estimating dispersions\n",
      "\n",
      "WARNING:rpy2.rinterface_lib.callbacks:R[write to console]: gene-wise dispersion estimates\n",
      "\n",
      "WARNING:rpy2.rinterface_lib.callbacks:R[write to console]: mean-dispersion relationship\n",
      "\n",
      "WARNING:rpy2.rinterface_lib.callbacks:R[write to console]: -- note: fitType='parametric', but the dispersion trend was not well captured by the\n",
      "   function: y = a/x + b, and a local regression fit was automatically substituted.\n",
      "   specify fitType='local' or 'mean' to avoid this message next time.\n",
      "\n",
      "WARNING:rpy2.rinterface_lib.callbacks:R[write to console]: final dispersion estimates\n",
      "\n",
      "WARNING:rpy2.rinterface_lib.callbacks:R[write to console]: fitting model and testing\n",
      "\n",
      "WARNING:rpy2.rinterface_lib.callbacks:R[write to console]: 337 rows did not converge in beta, labelled in mcols(object)$fullBetaConv. Use larger maxit argument with nbinomLRT\n",
      "\n",
      "INFO:DESeq2:Using contrast: ['dx', 'M', 'T']\n",
      "INFO:DESeq2:Using contrast: ['dx', 'M', 'NS']\n",
      "INFO:DESeq2:Using contrast: ['dx', 'M', 'NE']\n",
      "INFO:DESeq2:Using contrast: ['dx', 'M', 'D']\n",
      "INFO:DESeq2:Using contrast: ['dx', 'T', 'M']\n",
      "INFO:DESeq2:Using contrast: ['dx', 'T', 'NS']\n",
      "INFO:DESeq2:Using contrast: ['dx', 'T', 'NE']\n",
      "INFO:DESeq2:Using contrast: ['dx', 'T', 'D']\n",
      "INFO:DESeq2:Using contrast: ['dx', 'NS', 'M']\n",
      "INFO:DESeq2:Using contrast: ['dx', 'NS', 'T']\n",
      "INFO:DESeq2:Using contrast: ['dx', 'NS', 'NE']\n",
      "INFO:DESeq2:Using contrast: ['dx', 'NS', 'D']\n",
      "INFO:DESeq2:Using contrast: ['dx', 'NE', 'M']\n",
      "INFO:DESeq2:Using contrast: ['dx', 'NE', 'T']\n",
      "INFO:DESeq2:Using contrast: ['dx', 'NE', 'NS']\n",
      "INFO:DESeq2:Using contrast: ['dx', 'NE', 'D']\n",
      "INFO:DESeq2:Using contrast: ['dx', 'D', 'M']\n",
      "INFO:DESeq2:Using contrast: ['dx', 'D', 'T']\n",
      "INFO:DESeq2:Using contrast: ['dx', 'D', 'NS']\n",
      "INFO:DESeq2:Using contrast: ['dx', 'D', 'NE']\n"
     ]
    },
    {
     "name": "stdout",
     "output_type": "stream",
     "text": [
      "leiden cluster: B_cells\n"
     ]
    },
    {
     "name": "stderr",
     "output_type": "stream",
     "text": [
      "/tmp/ipykernel_675/596024025.py:21: FutureWarning: In a future version of pandas all arguments of DataFrame.drop except for the argument 'labels' will be keyword-only\n",
      "  sample_df.drop(['binned_cell_counts', 'procedure', 'biosample'], 1, inplace=True)\n"
     ]
    },
    {
     "name": "stdout",
     "output_type": "stream",
     "text": [
      " .... running deseq2...\n"
     ]
    },
    {
     "name": "stderr",
     "output_type": "stream",
     "text": [
      "WARNING:rpy2.rinterface_lib.callbacks:R[write to console]: converting counts to integer mode\n",
      "\n",
      "WARNING:rpy2.rinterface_lib.callbacks:R[write to console]: estimating size factors\n",
      "\n",
      "WARNING:rpy2.rinterface_lib.callbacks:R[write to console]: estimating dispersions\n",
      "\n",
      "WARNING:rpy2.rinterface_lib.callbacks:R[write to console]: gene-wise dispersion estimates\n",
      "\n",
      "WARNING:rpy2.rinterface_lib.callbacks:R[write to console]: mean-dispersion relationship\n",
      "\n",
      "WARNING:rpy2.rinterface_lib.callbacks:R[write to console]: -- note: fitType='parametric', but the dispersion trend was not well captured by the\n",
      "   function: y = a/x + b, and a local regression fit was automatically substituted.\n",
      "   specify fitType='local' or 'mean' to avoid this message next time.\n",
      "\n",
      "WARNING:rpy2.rinterface_lib.callbacks:R[write to console]: final dispersion estimates\n",
      "\n",
      "WARNING:rpy2.rinterface_lib.callbacks:R[write to console]: fitting model and testing\n",
      "\n",
      "WARNING:rpy2.rinterface_lib.callbacks:R[write to console]: 1156 rows did not converge in beta, labelled in mcols(object)$fullBetaConv. Use larger maxit argument with nbinomLRT\n",
      "\n",
      "INFO:DESeq2:Using contrast: ['dx', 'M', 'T']\n",
      "INFO:DESeq2:Using contrast: ['dx', 'M', 'NS']\n",
      "INFO:DESeq2:Using contrast: ['dx', 'M', 'NE']\n",
      "INFO:DESeq2:Using contrast: ['dx', 'M', 'D']\n",
      "INFO:DESeq2:Using contrast: ['dx', 'T', 'M']\n",
      "INFO:DESeq2:Using contrast: ['dx', 'T', 'NS']\n",
      "INFO:DESeq2:Using contrast: ['dx', 'T', 'NE']\n",
      "INFO:DESeq2:Using contrast: ['dx', 'T', 'D']\n",
      "INFO:DESeq2:Using contrast: ['dx', 'NS', 'M']\n",
      "INFO:DESeq2:Using contrast: ['dx', 'NS', 'T']\n",
      "INFO:DESeq2:Using contrast: ['dx', 'NS', 'NE']\n",
      "INFO:DESeq2:Using contrast: ['dx', 'NS', 'D']\n",
      "INFO:DESeq2:Using contrast: ['dx', 'NE', 'M']\n",
      "INFO:DESeq2:Using contrast: ['dx', 'NE', 'T']\n",
      "INFO:DESeq2:Using contrast: ['dx', 'NE', 'NS']\n",
      "INFO:DESeq2:Using contrast: ['dx', 'NE', 'D']\n",
      "INFO:DESeq2:Using contrast: ['dx', 'D', 'M']\n",
      "INFO:DESeq2:Using contrast: ['dx', 'D', 'T']\n",
      "INFO:DESeq2:Using contrast: ['dx', 'D', 'NS']\n",
      "INFO:DESeq2:Using contrast: ['dx', 'D', 'NE']\n"
     ]
    },
    {
     "name": "stdout",
     "output_type": "stream",
     "text": [
      "leiden cluster: cd4_Tcells\n"
     ]
    },
    {
     "name": "stderr",
     "output_type": "stream",
     "text": [
      "/tmp/ipykernel_675/596024025.py:21: FutureWarning: In a future version of pandas all arguments of DataFrame.drop except for the argument 'labels' will be keyword-only\n",
      "  sample_df.drop(['binned_cell_counts', 'procedure', 'biosample'], 1, inplace=True)\n"
     ]
    },
    {
     "name": "stdout",
     "output_type": "stream",
     "text": [
      " .... running deseq2...\n"
     ]
    },
    {
     "name": "stderr",
     "output_type": "stream",
     "text": [
      "WARNING:rpy2.rinterface_lib.callbacks:R[write to console]: converting counts to integer mode\n",
      "\n",
      "WARNING:rpy2.rinterface_lib.callbacks:R[write to console]: estimating size factors\n",
      "\n",
      "WARNING:rpy2.rinterface_lib.callbacks:R[write to console]: estimating dispersions\n",
      "\n",
      "WARNING:rpy2.rinterface_lib.callbacks:R[write to console]: gene-wise dispersion estimates\n",
      "\n",
      "WARNING:rpy2.rinterface_lib.callbacks:R[write to console]: mean-dispersion relationship\n",
      "\n",
      "WARNING:rpy2.rinterface_lib.callbacks:R[write to console]: -- note: fitType='parametric', but the dispersion trend was not well captured by the\n",
      "   function: y = a/x + b, and a local regression fit was automatically substituted.\n",
      "   specify fitType='local' or 'mean' to avoid this message next time.\n",
      "\n",
      "WARNING:rpy2.rinterface_lib.callbacks:R[write to console]: final dispersion estimates\n",
      "\n",
      "WARNING:rpy2.rinterface_lib.callbacks:R[write to console]: fitting model and testing\n",
      "\n",
      "WARNING:rpy2.rinterface_lib.callbacks:R[write to console]: 647 rows did not converge in beta, labelled in mcols(object)$fullBetaConv. Use larger maxit argument with nbinomLRT\n",
      "\n",
      "INFO:DESeq2:Using contrast: ['dx', 'M', 'T']\n",
      "INFO:DESeq2:Using contrast: ['dx', 'M', 'NS']\n",
      "INFO:DESeq2:Using contrast: ['dx', 'M', 'NE']\n",
      "INFO:DESeq2:Using contrast: ['dx', 'M', 'D']\n",
      "INFO:DESeq2:Using contrast: ['dx', 'T', 'M']\n",
      "INFO:DESeq2:Using contrast: ['dx', 'T', 'NS']\n",
      "INFO:DESeq2:Using contrast: ['dx', 'T', 'NE']\n",
      "INFO:DESeq2:Using contrast: ['dx', 'T', 'D']\n",
      "INFO:DESeq2:Using contrast: ['dx', 'NS', 'M']\n",
      "INFO:DESeq2:Using contrast: ['dx', 'NS', 'T']\n",
      "INFO:DESeq2:Using contrast: ['dx', 'NS', 'NE']\n",
      "INFO:DESeq2:Using contrast: ['dx', 'NS', 'D']\n",
      "INFO:DESeq2:Using contrast: ['dx', 'NE', 'M']\n",
      "INFO:DESeq2:Using contrast: ['dx', 'NE', 'T']\n",
      "INFO:DESeq2:Using contrast: ['dx', 'NE', 'NS']\n",
      "INFO:DESeq2:Using contrast: ['dx', 'NE', 'D']\n",
      "INFO:DESeq2:Using contrast: ['dx', 'D', 'M']\n",
      "INFO:DESeq2:Using contrast: ['dx', 'D', 'T']\n",
      "INFO:DESeq2:Using contrast: ['dx', 'D', 'NS']\n",
      "INFO:DESeq2:Using contrast: ['dx', 'D', 'NE']\n"
     ]
    },
    {
     "name": "stdout",
     "output_type": "stream",
     "text": [
      "leiden cluster: cd8_Tcells\n"
     ]
    },
    {
     "name": "stderr",
     "output_type": "stream",
     "text": [
      "/tmp/ipykernel_675/596024025.py:21: FutureWarning: In a future version of pandas all arguments of DataFrame.drop except for the argument 'labels' will be keyword-only\n",
      "  sample_df.drop(['binned_cell_counts', 'procedure', 'biosample'], 1, inplace=True)\n"
     ]
    },
    {
     "name": "stdout",
     "output_type": "stream",
     "text": [
      " .... running deseq2...\n"
     ]
    },
    {
     "name": "stderr",
     "output_type": "stream",
     "text": [
      "WARNING:rpy2.rinterface_lib.callbacks:R[write to console]: converting counts to integer mode\n",
      "\n",
      "WARNING:rpy2.rinterface_lib.callbacks:R[write to console]: estimating size factors\n",
      "\n",
      "WARNING:rpy2.rinterface_lib.callbacks:R[write to console]: estimating dispersions\n",
      "\n",
      "WARNING:rpy2.rinterface_lib.callbacks:R[write to console]: gene-wise dispersion estimates\n",
      "\n",
      "WARNING:rpy2.rinterface_lib.callbacks:R[write to console]: mean-dispersion relationship\n",
      "\n",
      "WARNING:rpy2.rinterface_lib.callbacks:R[write to console]: -- note: fitType='parametric', but the dispersion trend was not well captured by the\n",
      "   function: y = a/x + b, and a local regression fit was automatically substituted.\n",
      "   specify fitType='local' or 'mean' to avoid this message next time.\n",
      "\n",
      "WARNING:rpy2.rinterface_lib.callbacks:R[write to console]: final dispersion estimates\n",
      "\n",
      "WARNING:rpy2.rinterface_lib.callbacks:R[write to console]: fitting model and testing\n",
      "\n",
      "WARNING:rpy2.rinterface_lib.callbacks:R[write to console]: 615 rows did not converge in beta, labelled in mcols(object)$fullBetaConv. Use larger maxit argument with nbinomLRT\n",
      "\n",
      "INFO:DESeq2:Using contrast: ['dx', 'M', 'T']\n",
      "INFO:DESeq2:Using contrast: ['dx', 'M', 'NS']\n",
      "INFO:DESeq2:Using contrast: ['dx', 'M', 'NE']\n",
      "INFO:DESeq2:Using contrast: ['dx', 'M', 'D']\n",
      "INFO:DESeq2:Using contrast: ['dx', 'T', 'M']\n",
      "INFO:DESeq2:Using contrast: ['dx', 'T', 'NS']\n",
      "INFO:DESeq2:Using contrast: ['dx', 'T', 'NE']\n",
      "INFO:DESeq2:Using contrast: ['dx', 'T', 'D']\n",
      "INFO:DESeq2:Using contrast: ['dx', 'NS', 'M']\n",
      "INFO:DESeq2:Using contrast: ['dx', 'NS', 'T']\n",
      "INFO:DESeq2:Using contrast: ['dx', 'NS', 'NE']\n",
      "INFO:DESeq2:Using contrast: ['dx', 'NS', 'D']\n",
      "INFO:DESeq2:Using contrast: ['dx', 'NE', 'M']\n",
      "INFO:DESeq2:Using contrast: ['dx', 'NE', 'T']\n",
      "INFO:DESeq2:Using contrast: ['dx', 'NE', 'NS']\n",
      "INFO:DESeq2:Using contrast: ['dx', 'NE', 'D']\n",
      "INFO:DESeq2:Using contrast: ['dx', 'D', 'M']\n",
      "INFO:DESeq2:Using contrast: ['dx', 'D', 'T']\n",
      "INFO:DESeq2:Using contrast: ['dx', 'D', 'NS']\n",
      "INFO:DESeq2:Using contrast: ['dx', 'D', 'NE']\n"
     ]
    },
    {
     "name": "stdout",
     "output_type": "stream",
     "text": [
      "leiden cluster: NK_cells\n"
     ]
    },
    {
     "name": "stderr",
     "output_type": "stream",
     "text": [
      "/tmp/ipykernel_675/596024025.py:21: FutureWarning: In a future version of pandas all arguments of DataFrame.drop except for the argument 'labels' will be keyword-only\n",
      "  sample_df.drop(['binned_cell_counts', 'procedure', 'biosample'], 1, inplace=True)\n"
     ]
    },
    {
     "name": "stdout",
     "output_type": "stream",
     "text": [
      " .... running deseq2...\n"
     ]
    },
    {
     "name": "stderr",
     "output_type": "stream",
     "text": [
      "WARNING:rpy2.rinterface_lib.callbacks:R[write to console]: converting counts to integer mode\n",
      "\n",
      "WARNING:rpy2.rinterface_lib.callbacks:R[write to console]: estimating size factors\n",
      "\n",
      "WARNING:rpy2.rinterface_lib.callbacks:R[write to console]: estimating dispersions\n",
      "\n",
      "WARNING:rpy2.rinterface_lib.callbacks:R[write to console]: gene-wise dispersion estimates\n",
      "\n",
      "WARNING:rpy2.rinterface_lib.callbacks:R[write to console]: mean-dispersion relationship\n",
      "\n",
      "WARNING:rpy2.rinterface_lib.callbacks:R[write to console]: -- note: fitType='parametric', but the dispersion trend was not well captured by the\n",
      "   function: y = a/x + b, and a local regression fit was automatically substituted.\n",
      "   specify fitType='local' or 'mean' to avoid this message next time.\n",
      "\n",
      "WARNING:rpy2.rinterface_lib.callbacks:R[write to console]: final dispersion estimates\n",
      "\n",
      "WARNING:rpy2.rinterface_lib.callbacks:R[write to console]: fitting model and testing\n",
      "\n",
      "WARNING:rpy2.rinterface_lib.callbacks:R[write to console]: 807 rows did not converge in beta, labelled in mcols(object)$fullBetaConv. Use larger maxit argument with nbinomLRT\n",
      "\n",
      "INFO:DESeq2:Using contrast: ['dx', 'M', 'T']\n",
      "INFO:DESeq2:Using contrast: ['dx', 'M', 'NS']\n",
      "INFO:DESeq2:Using contrast: ['dx', 'M', 'NE']\n",
      "INFO:DESeq2:Using contrast: ['dx', 'M', 'D']\n",
      "INFO:DESeq2:Using contrast: ['dx', 'T', 'M']\n",
      "INFO:DESeq2:Using contrast: ['dx', 'T', 'NS']\n",
      "INFO:DESeq2:Using contrast: ['dx', 'T', 'NE']\n",
      "INFO:DESeq2:Using contrast: ['dx', 'T', 'D']\n",
      "INFO:DESeq2:Using contrast: ['dx', 'NS', 'M']\n",
      "INFO:DESeq2:Using contrast: ['dx', 'NS', 'T']\n",
      "INFO:DESeq2:Using contrast: ['dx', 'NS', 'NE']\n",
      "INFO:DESeq2:Using contrast: ['dx', 'NS', 'D']\n",
      "INFO:DESeq2:Using contrast: ['dx', 'NE', 'M']\n",
      "INFO:DESeq2:Using contrast: ['dx', 'NE', 'T']\n",
      "INFO:DESeq2:Using contrast: ['dx', 'NE', 'NS']\n",
      "INFO:DESeq2:Using contrast: ['dx', 'NE', 'D']\n",
      "INFO:DESeq2:Using contrast: ['dx', 'D', 'M']\n",
      "INFO:DESeq2:Using contrast: ['dx', 'D', 'T']\n",
      "INFO:DESeq2:Using contrast: ['dx', 'D', 'NS']\n",
      "INFO:DESeq2:Using contrast: ['dx', 'D', 'NE']\n"
     ]
    },
    {
     "name": "stdout",
     "output_type": "stream",
     "text": [
      "leiden cluster: mast_cells\n"
     ]
    },
    {
     "name": "stderr",
     "output_type": "stream",
     "text": [
      "/tmp/ipykernel_675/596024025.py:21: FutureWarning: In a future version of pandas all arguments of DataFrame.drop except for the argument 'labels' will be keyword-only\n",
      "  sample_df.drop(['binned_cell_counts', 'procedure', 'biosample'], 1, inplace=True)\n"
     ]
    },
    {
     "name": "stdout",
     "output_type": "stream",
     "text": [
      " .... running deseq2...\n"
     ]
    },
    {
     "name": "stderr",
     "output_type": "stream",
     "text": [
      "WARNING:rpy2.rinterface_lib.callbacks:R[write to console]: converting counts to integer mode\n",
      "\n",
      "WARNING:rpy2.rinterface_lib.callbacks:R[write to console]: estimating size factors\n",
      "\n",
      "WARNING:rpy2.rinterface_lib.callbacks:R[write to console]: estimating dispersions\n",
      "\n",
      "WARNING:rpy2.rinterface_lib.callbacks:R[write to console]: gene-wise dispersion estimates\n",
      "\n",
      "WARNING:rpy2.rinterface_lib.callbacks:R[write to console]: mean-dispersion relationship\n",
      "\n",
      "WARNING:rpy2.rinterface_lib.callbacks:R[write to console]: -- note: fitType='parametric', but the dispersion trend was not well captured by the\n",
      "   function: y = a/x + b, and a local regression fit was automatically substituted.\n",
      "   specify fitType='local' or 'mean' to avoid this message next time.\n",
      "\n",
      "WARNING:rpy2.rinterface_lib.callbacks:R[write to console]: final dispersion estimates\n",
      "\n",
      "WARNING:rpy2.rinterface_lib.callbacks:R[write to console]: fitting model and testing\n",
      "\n",
      "WARNING:rpy2.rinterface_lib.callbacks:R[write to console]: 403 rows did not converge in beta, labelled in mcols(object)$fullBetaConv. Use larger maxit argument with nbinomLRT\n",
      "\n",
      "INFO:DESeq2:Using contrast: ['dx', 'M', 'T']\n",
      "INFO:DESeq2:Using contrast: ['dx', 'M', 'NS']\n",
      "INFO:DESeq2:Using contrast: ['dx', 'M', 'NE']\n",
      "INFO:DESeq2:Using contrast: ['dx', 'M', 'D']\n",
      "INFO:DESeq2:Using contrast: ['dx', 'T', 'M']\n",
      "INFO:DESeq2:Using contrast: ['dx', 'T', 'NS']\n",
      "INFO:DESeq2:Using contrast: ['dx', 'T', 'NE']\n",
      "INFO:DESeq2:Using contrast: ['dx', 'T', 'D']\n",
      "INFO:DESeq2:Using contrast: ['dx', 'NS', 'M']\n",
      "INFO:DESeq2:Using contrast: ['dx', 'NS', 'T']\n",
      "INFO:DESeq2:Using contrast: ['dx', 'NS', 'NE']\n",
      "INFO:DESeq2:Using contrast: ['dx', 'NS', 'D']\n",
      "INFO:DESeq2:Using contrast: ['dx', 'NE', 'M']\n",
      "INFO:DESeq2:Using contrast: ['dx', 'NE', 'T']\n",
      "INFO:DESeq2:Using contrast: ['dx', 'NE', 'NS']\n",
      "INFO:DESeq2:Using contrast: ['dx', 'NE', 'D']\n",
      "INFO:DESeq2:Using contrast: ['dx', 'D', 'M']\n",
      "INFO:DESeq2:Using contrast: ['dx', 'D', 'T']\n",
      "INFO:DESeq2:Using contrast: ['dx', 'D', 'NS']\n",
      "INFO:DESeq2:Using contrast: ['dx', 'D', 'NE']\n"
     ]
    },
    {
     "name": "stdout",
     "output_type": "stream",
     "text": [
      "leiden cluster: hepatoid\n"
     ]
    },
    {
     "name": "stderr",
     "output_type": "stream",
     "text": [
      "/tmp/ipykernel_675/596024025.py:21: FutureWarning: In a future version of pandas all arguments of DataFrame.drop except for the argument 'labels' will be keyword-only\n",
      "  sample_df.drop(['binned_cell_counts', 'procedure', 'biosample'], 1, inplace=True)\n"
     ]
    },
    {
     "name": "stdout",
     "output_type": "stream",
     "text": [
      " .... running deseq2...\n"
     ]
    },
    {
     "name": "stderr",
     "output_type": "stream",
     "text": [
      "WARNING:rpy2.rinterface_lib.callbacks:R[write to console]: converting counts to integer mode\n",
      "\n",
      "WARNING:rpy2.rinterface_lib.callbacks:R[write to console]: estimating size factors\n",
      "\n",
      "WARNING:rpy2.rinterface_lib.callbacks:R[write to console]: estimating dispersions\n",
      "\n",
      "WARNING:rpy2.rinterface_lib.callbacks:R[write to console]: gene-wise dispersion estimates\n",
      "\n",
      "WARNING:rpy2.rinterface_lib.callbacks:R[write to console]: mean-dispersion relationship\n",
      "\n",
      "WARNING:rpy2.rinterface_lib.callbacks:R[write to console]: final dispersion estimates\n",
      "\n",
      "WARNING:rpy2.rinterface_lib.callbacks:R[write to console]: fitting model and testing\n",
      "\n",
      "WARNING:rpy2.rinterface_lib.callbacks:R[write to console]: 3558 rows did not converge in beta, labelled in mcols(object)$fullBetaConv. Use larger maxit argument with nbinomLRT\n",
      "\n",
      "INFO:DESeq2:Using contrast: ['dx', 'M', 'T']\n",
      "INFO:DESeq2:Using contrast: ['dx', 'M', 'NS']\n",
      "INFO:DESeq2:Using contrast: ['dx', 'M', 'NE']\n",
      "INFO:DESeq2:Using contrast: ['dx', 'M', 'D']\n",
      "INFO:DESeq2:Using contrast: ['dx', 'T', 'M']\n",
      "INFO:DESeq2:Using contrast: ['dx', 'T', 'NS']\n",
      "INFO:DESeq2:Using contrast: ['dx', 'T', 'NE']\n",
      "INFO:DESeq2:Using contrast: ['dx', 'T', 'D']\n",
      "INFO:DESeq2:Using contrast: ['dx', 'NS', 'M']\n",
      "INFO:DESeq2:Using contrast: ['dx', 'NS', 'T']\n",
      "INFO:DESeq2:Using contrast: ['dx', 'NS', 'NE']\n",
      "INFO:DESeq2:Using contrast: ['dx', 'NS', 'D']\n",
      "INFO:DESeq2:Using contrast: ['dx', 'NE', 'M']\n",
      "INFO:DESeq2:Using contrast: ['dx', 'NE', 'T']\n",
      "INFO:DESeq2:Using contrast: ['dx', 'NE', 'NS']\n",
      "INFO:DESeq2:Using contrast: ['dx', 'NE', 'D']\n",
      "INFO:DESeq2:Using contrast: ['dx', 'D', 'M']\n",
      "INFO:DESeq2:Using contrast: ['dx', 'D', 'T']\n",
      "INFO:DESeq2:Using contrast: ['dx', 'D', 'NS']\n",
      "INFO:DESeq2:Using contrast: ['dx', 'D', 'NE']\n"
     ]
    },
    {
     "name": "stdout",
     "output_type": "stream",
     "text": [
      "leiden cluster: naive_T_cells\n"
     ]
    },
    {
     "name": "stderr",
     "output_type": "stream",
     "text": [
      "/tmp/ipykernel_675/596024025.py:21: FutureWarning: In a future version of pandas all arguments of DataFrame.drop except for the argument 'labels' will be keyword-only\n",
      "  sample_df.drop(['binned_cell_counts', 'procedure', 'biosample'], 1, inplace=True)\n"
     ]
    },
    {
     "name": "stdout",
     "output_type": "stream",
     "text": [
      " .... running deseq2...\n"
     ]
    },
    {
     "name": "stderr",
     "output_type": "stream",
     "text": [
      "WARNING:rpy2.rinterface_lib.callbacks:R[write to console]: converting counts to integer mode\n",
      "\n",
      "WARNING:rpy2.rinterface_lib.callbacks:R[write to console]: estimating size factors\n",
      "\n",
      "WARNING:rpy2.rinterface_lib.callbacks:R[write to console]: estimating dispersions\n",
      "\n",
      "WARNING:rpy2.rinterface_lib.callbacks:R[write to console]: gene-wise dispersion estimates\n",
      "\n",
      "WARNING:rpy2.rinterface_lib.callbacks:R[write to console]: mean-dispersion relationship\n",
      "\n",
      "WARNING:rpy2.rinterface_lib.callbacks:R[write to console]: -- note: fitType='parametric', but the dispersion trend was not well captured by the\n",
      "   function: y = a/x + b, and a local regression fit was automatically substituted.\n",
      "   specify fitType='local' or 'mean' to avoid this message next time.\n",
      "\n",
      "WARNING:rpy2.rinterface_lib.callbacks:R[write to console]: final dispersion estimates\n",
      "\n",
      "WARNING:rpy2.rinterface_lib.callbacks:R[write to console]: fitting model and testing\n",
      "\n",
      "WARNING:rpy2.rinterface_lib.callbacks:R[write to console]: 834 rows did not converge in beta, labelled in mcols(object)$fullBetaConv. Use larger maxit argument with nbinomLRT\n",
      "\n",
      "INFO:DESeq2:Using contrast: ['dx', 'M', 'T']\n",
      "INFO:DESeq2:Using contrast: ['dx', 'M', 'NS']\n",
      "INFO:DESeq2:Using contrast: ['dx', 'M', 'NE']\n",
      "INFO:DESeq2:Using contrast: ['dx', 'M', 'D']\n",
      "INFO:DESeq2:Using contrast: ['dx', 'T', 'M']\n",
      "INFO:DESeq2:Using contrast: ['dx', 'T', 'NS']\n",
      "INFO:DESeq2:Using contrast: ['dx', 'T', 'NE']\n",
      "INFO:DESeq2:Using contrast: ['dx', 'T', 'D']\n",
      "INFO:DESeq2:Using contrast: ['dx', 'NS', 'M']\n",
      "INFO:DESeq2:Using contrast: ['dx', 'NS', 'T']\n",
      "INFO:DESeq2:Using contrast: ['dx', 'NS', 'NE']\n",
      "INFO:DESeq2:Using contrast: ['dx', 'NS', 'D']\n",
      "INFO:DESeq2:Using contrast: ['dx', 'NE', 'M']\n",
      "INFO:DESeq2:Using contrast: ['dx', 'NE', 'T']\n",
      "INFO:DESeq2:Using contrast: ['dx', 'NE', 'NS']\n",
      "INFO:DESeq2:Using contrast: ['dx', 'NE', 'D']\n",
      "INFO:DESeq2:Using contrast: ['dx', 'D', 'M']\n",
      "INFO:DESeq2:Using contrast: ['dx', 'D', 'T']\n",
      "INFO:DESeq2:Using contrast: ['dx', 'D', 'NS']\n",
      "INFO:DESeq2:Using contrast: ['dx', 'D', 'NE']\n"
     ]
    }
   ],
   "source": [
    "clusterlabs = list(set(q.obs.leiden))\n",
    "clusterlabs.sort()\n",
    "res_df = pd.DataFrame()\n",
    "for leiden_label in cellclusters.keys(): #clusterlabs:\n",
    "    # subset the anndata to this cluster\n",
    "    print('leiden cluster: ' + leiden_label)\n",
    "    ### subset data to this cluster\n",
    "    clusterlabels = cellclusters[leiden_label]\n",
    "    qci = q[q.obs.leiden.isin(clusterlabels)]\n",
    "    qci = qci[qci.obs.diagnosis.isin(['NE', 'NS', 'M', 'D', 'T'])]\n",
    "    ###\n",
    "    (biosample_list, index, sample_df) = build_design(q, qci)\n",
    "    try:\n",
    "        # building the pseudobulk count matrix\n",
    "        count_matrix = build_count_matrix(biosample_list, index, qci, sample_df)\n",
    "        #sample_df.binned_cell_counts = [str(x) for x in sample_df.binned_cell_counts]\n",
    "        sample_df.index = sample_df.biosample\n",
    "        x =  scaler.fit_transform(sample_df[ ['cell_counts', 'avg_molecules'] ])\n",
    "        sample_df.cell_counts = x[:,0]\n",
    "        sample_df.avg_molecules = x[:,1]\n",
    "        sample_df.drop(['binned_cell_counts', 'procedure', 'biosample'], 1, inplace=True)\n",
    "        sample_df = sample_df[['patient','cell_counts','avg_molecules','dx']]\n",
    "        #fit a deseq2 model\n",
    "        #https://bioconductor.riken.jp/packages/3.6/bioc/vignettes/DESeq2/inst/doc/DESeq2.html#group-specific-condition-effects-individuals-nested-within-groups\n",
    "        print(' .... running deseq2...')\n",
    "        ###\n",
    "        dds = py_DESeq2(count_matrix = count_matrix,\n",
    "                       design_matrix = sample_df,\n",
    "                       design_formula = '~ patient + cell_counts + avg_molecules + dx', #'~ patient + cell_counts + dx',\n",
    "                       gene_column = 'id') # <- telling DESeq2 this should be the gene ID column\n",
    "        params = dict(test='LRT', reduced=Formula('~ patient + cell_counts + avg_molecules'), useT=True, minmu=1e-6, minReplicatesForReplace=np.Inf) # \n",
    "        dds.run_deseq(**params) \n",
    "        ### then pulling out log2FC\n",
    "        dxs = list(set(sample_df.dx))\n",
    "        for (dx1, dx2) in list(itertools.product(dxs, dxs)):\n",
    "            if dx1 != dx2:\n",
    "                dds.get_deseq_result(contrast = ['dx',dx1, dx2])\n",
    "                de_df = dds.deseq_result \n",
    "                # add the additional items\n",
    "                de_df['celltype'] = leiden_label\n",
    "                #sig_res = res_df[(res_df.padj < 0.05) & (abs(res_df.log2FoldChange) > 1) & (res_df.baseMean > 2)]\n",
    "                #sig_res[ '_'.join(['dx','D','T']) ] = sig_res.log2FoldChange\n",
    "                de_df.to_csv('../deseq2_out/deseq2_batch_'+str(leiden_label)+'_'+dx1+'_'+dx2+'.csv')\n",
    "    except:\n",
    "        print('error: ' + leiden_label)\n",
    "        print(qci)\n",
    "        print('')\n",
    "    del qci\n",
    "    gc.collect()\n"
   ]
  },
  {
   "cell_type": "code",
   "execution_count": null,
   "metadata": {},
   "outputs": [],
   "source": []
  },
  {
   "cell_type": "code",
   "execution_count": null,
   "metadata": {},
   "outputs": [],
   "source": []
  },
  {
   "cell_type": "code",
   "execution_count": null,
   "metadata": {},
   "outputs": [],
   "source": []
  },
  {
   "cell_type": "code",
   "execution_count": null,
   "metadata": {},
   "outputs": [],
   "source": []
  },
  {
   "cell_type": "code",
   "execution_count": null,
   "metadata": {},
   "outputs": [],
   "source": []
  }
 ],
 "metadata": {
  "environment": {
   "name": "r-cpu.4-0.m75",
   "type": "gcloud",
   "uri": "gcr.io/deeplearning-platform-release/r-cpu.4-0:m75"
  },
  "kernelspec": {
   "display_name": "Python 3 (ipykernel)",
   "language": "python",
   "name": "python3"
  },
  "language_info": {
   "codemirror_mode": {
    "name": "ipython",
    "version": 3
   },
   "file_extension": ".py",
   "mimetype": "text/x-python",
   "name": "python",
   "nbconvert_exporter": "python",
   "pygments_lexer": "ipython3",
   "version": "3.10.11"
  }
 },
 "nbformat": 4,
 "nbformat_minor": 4
}
